{
  "nbformat": 4,
  "nbformat_minor": 0,
  "metadata": {
    "colab": {
      "provenance": [],
      "mount_file_id": "1KP0_8_IFT6-7XUF8_PpgmtdTBcn0bS_c",
      "authorship_tag": "ABX9TyMF3fG2v+qDGP9po0rG9spN",
      "include_colab_link": true
    },
    "kernelspec": {
      "name": "python3",
      "display_name": "Python 3"
    },
    "language_info": {
      "name": "python"
    }
  },
  "cells": [
    {
      "cell_type": "markdown",
      "metadata": {
        "id": "view-in-github",
        "colab_type": "text"
      },
      "source": [
        "<a href=\"https://colab.research.google.com/github/Ziqi-Li/GIS5122/blob/main/assignments/GIS5122_A4.ipynb\" target=\"_parent\"><img src=\"https://colab.research.google.com/assets/colab-badge.svg\" alt=\"Open In Colab\"/></a>"
      ]
    },
    {
      "cell_type": "markdown",
      "source": [
        "# Assignment 4\n",
        "**Due date/time:** Mar 29th Fri 23:59pm\n",
        "\n",
        "**Instruction**: Make a copy of this notebook and read through the questions and instructions. Write down code/text to perform the analysis.\n",
        "\n",
        "**Submission**: After you finish working on this notebook, click File->Download->Download .ipynb\n",
        "\n",
        "Please submit a notebook named A4_your_name.ipynb on Canvas."
      ],
      "metadata": {
        "id": "sqjesvPPEket"
      }
    },
    {
      "cell_type": "markdown",
      "source": [
        "## Detailed instructions:\n",
        "\n",
        "In this assignment, we will practice modeling spatial heterogeneity using geographically weighted regression models\n",
        "\n",
        "**Note**: From this assignment and onward, if you are interested in performing your analysis using your own data (e.g., you may have a dataset from a research project), you are very encouraged to do so.\n",
        "\n",
        "We will be re-using our data and model specifications from Assignment 3. For the same set of dependent variable (y) and independent variables (X):\n",
        "\n",
        "1. Fit a GWR model and an MGWR model. Note, MGWR may take a while to finish. Also make sure you standardize your variables before model fitting. (2%)\n",
        "2. Compare the models in terms of a) R², b) AICc, and c) spatial autocorrelation in the model residuals. Indicate which model performs better for your data. (2%)\n",
        "3. Make maps of your spatially varying coefficients with adjustments for multiple testing (make insignificant coefficients grey). (3%)\n",
        "4. Describe the spatial pattern you observe in your maps of spatially varying coefficients. Hints: Comment on the general pattern, magnitude, sign of the coefficients, and spatial scale of the relationship, etc. (3%)\n",
        "\n"
      ],
      "metadata": {
        "id": "nlUts3saotCm"
      }
    },
    {
      "cell_type": "markdown",
      "source": [
        "You may need to install these three packages if working on colab:"
      ],
      "metadata": {
        "id": "IEgybfZozCv4"
      }
    },
    {
      "cell_type": "code",
      "source": [
        "#pip install -q libpysal"
      ],
      "metadata": {
        "id": "_PICHtnc03s_"
      },
      "execution_count": null,
      "outputs": []
    },
    {
      "cell_type": "code",
      "source": [
        "#pip install -q splot"
      ],
      "metadata": {
        "id": "cenqjqJRrzeG"
      },
      "execution_count": null,
      "outputs": []
    },
    {
      "cell_type": "code",
      "source": [
        "#pip install -q mgwr"
      ],
      "metadata": {
        "id": "XxXfQ8DzZ_8-"
      },
      "execution_count": null,
      "outputs": []
    },
    {
      "cell_type": "markdown",
      "source": [
        "Import all the packages needed to run the analysis"
      ],
      "metadata": {
        "id": "Z14JaGaIzMMK"
      }
    },
    {
      "cell_type": "code",
      "source": [
        "import geopandas as gpd\n",
        "import seaborn as sns\n",
        "import pandas as pd\n",
        "import matplotlib.pyplot as plt\n",
        "import numpy as np\n",
        "import statsmodels.api as sm\n",
        "\n",
        "from libpysal.weights import Queen\n",
        "from esda.moran import Moran\n",
        "#MGWR functions\n",
        "from mgwr.gwr import GWR\n",
        "from mgwr.sel_bw import Sel_BW"
      ],
      "metadata": {
        "id": "4JFPjpkorrhr"
      },
      "execution_count": null,
      "outputs": []
    },
    {
      "cell_type": "markdown",
      "source": [
        "Code to read in data and merge them into one final `GeoDataFrame`."
      ],
      "metadata": {
        "id": "4DoUQPHTy039"
      }
    },
    {
      "cell_type": "code",
      "source": [
        "health_url = \"https://raw.github.com/Ziqi-Li/GIS5122/main/data/cdc_health_county.csv\"\n",
        "health = pd.read_csv(health_url)"
      ],
      "metadata": {
        "id": "BZCRG_jmy0Zx"
      },
      "execution_count": null,
      "outputs": []
    },
    {
      "cell_type": "code",
      "source": [
        "socio_demo_url = \"https://raw.github.com/Ziqi-Li/GIS5122/main/data/acs_2019.csv\"\n",
        "socio_demo = pd.read_csv(socio_demo_url)"
      ],
      "metadata": {
        "id": "v1KGhaV1M4FG"
      },
      "execution_count": null,
      "outputs": []
    },
    {
      "cell_type": "code",
      "source": [
        "counties_url = \"https://raw.github.com/Ziqi-Li/gis5122/master/data/us_counties.geojson\"\n",
        "counties = gpd.read_file(counties_url)"
      ],
      "metadata": {
        "id": "flgMh4FA2R7k"
      },
      "execution_count": null,
      "outputs": []
    },
    {
      "cell_type": "code",
      "source": [
        "income_health = pd.merge(socio_demo, health, left_on = \"county_id\", right_on = \"LocationID\")"
      ],
      "metadata": {
        "id": "APDrEO1kzfDy"
      },
      "execution_count": null,
      "outputs": []
    },
    {
      "cell_type": "code",
      "source": [
        "gdf_income_health = pd.merge(counties, income_health, on = \"county_id\")"
      ],
      "metadata": {
        "id": "v6Rn9zWTzfG8"
      },
      "execution_count": null,
      "outputs": []
    },
    {
      "cell_type": "markdown",
      "source": [
        "Your code will start here, and your analysis will be based on this GeoDataFrame `gdf_income_health`."
      ],
      "metadata": {
        "id": "IOSNbM0q2vi9"
      }
    },
    {
      "cell_type": "code",
      "source": [],
      "metadata": {
        "id": "tbgq4cLmzfOV"
      },
      "execution_count": null,
      "outputs": []
    },
    {
      "cell_type": "code",
      "source": [],
      "metadata": {
        "id": "Y5vxJcVpzfSJ"
      },
      "execution_count": null,
      "outputs": []
    },
    {
      "cell_type": "code",
      "source": [],
      "metadata": {
        "id": "1TpC9QXnM4HY"
      },
      "execution_count": null,
      "outputs": []
    }
  ]
}