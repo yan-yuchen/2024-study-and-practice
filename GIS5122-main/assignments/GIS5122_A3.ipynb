{
  "nbformat": 4,
  "nbformat_minor": 0,
  "metadata": {
    "colab": {
      "provenance": [],
      "mount_file_id": "1KP0_8_IFT6-7XUF8_PpgmtdTBcn0bS_c",
      "authorship_tag": "ABX9TyOeasFBKNiueN3GrPHaukDV",
      "include_colab_link": true
    },
    "kernelspec": {
      "name": "python3",
      "display_name": "Python 3"
    },
    "language_info": {
      "name": "python"
    }
  },
  "cells": [
    {
      "cell_type": "markdown",
      "metadata": {
        "id": "view-in-github",
        "colab_type": "text"
      },
      "source": [
        "<a href=\"https://colab.research.google.com/github/Ziqi-Li/GIS5122/blob/main/assignments/GIS5122_A3.ipynb\" target=\"_parent\"><img src=\"https://colab.research.google.com/assets/colab-badge.svg\" alt=\"Open In Colab\"/></a>"
      ]
    },
    {
      "cell_type": "markdown",
      "source": [
        "# Assignment 3\n",
        "**Due date/time:** Mar 6th Wed 23:59pm\n",
        "\n",
        "**Instruction**: Make a copy of this notebook and read through the questions and instructions. Write down code/text to perform the analysis.\n",
        "\n",
        "**Submission**: After you finish working on this notebook, click File->Download->Download .ipynb\n",
        "\n",
        "Please submit a notebook named A3_your_name.ipynb on Canvas."
      ],
      "metadata": {
        "id": "sqjesvPPEket"
      }
    },
    {
      "cell_type": "markdown",
      "source": [
        "## Detailed instructions:\n",
        "\n",
        "In this assignment, we will practie on model selection and spatial autocorrelation.\n",
        "\n",
        "**Note**: From this assignment and onward, if you are interested in performing your analysis using your own data (e.g., you may have a dataset from a research project), you are very encouraged to do so.\n",
        "\n",
        "We will be re-using our county-level health data `health` obtained from [CDC](https://www.cdc.gov/places/index.html) to investigate [Social Determinants of Health](https://www.cdc.gov/about/sdoh/index.html). You can find the explanations to the columns in the data [here](https://raw.githubusercontent.com/Ziqi-Li/GIS5122/main/data/cdc_county_health.txt).\n",
        "\n",
        "You are also given a county-level socio-demographic dataset `socio_demo` obtaiend from the American Community Survey (2015-2019) dataset. Variable name explanations can be seen [here](https://github.com/Ziqi-Li/GIS5122/blob/main/data/acs_2019_variables.txt).\n",
        "\n",
        "The objective is to identify socio-demographic factors that will explain health outcome inequality in the US, by estimating a regression model.\n",
        "\n",
        "You are also given a county-level boundary file `counties` for making necessary maps.\n",
        "\n",
        "Below are specific tasks you need to perform and their credits (total 100%):\n",
        "1. Create a `GeoDataFrame` by merging the `health`, the `socio_demo` and the `counties` boundary together. Code is given.\n",
        "2. Choose **ONE** health outcome of your interest. Make a map of the health outcome to show its spatial distribution. (**5%**)\n",
        "3. Build a linear regression model (OLS) with the health outcome as the dependent variable, and socio-demographic variables as the independent variables. You are supposed to tweak the model specification based on your own understanding of the potential relationships. Optionally but not required, you can use the forward/backward/stepwise selection code (autoselect.py) to help you decide which predictors you want to include in your model. Report and interpret your linear regression results regarding your model R2, regression coefficients, and statistical significance of the coefficients. (**30%**)\n",
        "5. Create a residual vs fit plot and a Q-Q plot to check the model residual assumptions. Describe whether the patterns in these plots noticeably violate any of the LINE regression assumptions. In this speficic assignment, you are only expected to diagnose issues but you don't need to fix the issues. (**10%**)\n",
        "6. Make a map of the residuals to examine spatial autocorrelation. Then compute Moran's I value of the residuals based on Queen-contiguity spatial weights matrix. Interpret the Moran's I value and its statistical significance. (**15%**)\n",
        "7. Fit both a spatial lag model and a spatial error model and cross compare all three methods (slm, sem, ols) and indicate which model we should use based on the evidence from 1) AIC; 2) L-M test and 3) residual spatial autocorrelation. (**40%**)\n",
        "\n"
      ],
      "metadata": {
        "id": "nlUts3saotCm"
      }
    },
    {
      "cell_type": "markdown",
      "source": [
        "You may need to install these two packages:"
      ],
      "metadata": {
        "id": "IEgybfZozCv4"
      }
    },
    {
      "cell_type": "code",
      "source": [
        "pip install -q libpysal"
      ],
      "metadata": {
        "id": "_PICHtnc03s_"
      },
      "execution_count": 1,
      "outputs": []
    },
    {
      "cell_type": "code",
      "source": [
        "pip install -q splot"
      ],
      "metadata": {
        "id": "cenqjqJRrzeG"
      },
      "execution_count": 2,
      "outputs": []
    },
    {
      "cell_type": "markdown",
      "source": [
        "Import all the packages needed to run the analysis"
      ],
      "metadata": {
        "id": "Z14JaGaIzMMK"
      }
    },
    {
      "cell_type": "code",
      "source": [
        "import geopandas as gpd\n",
        "import seaborn as sns\n",
        "import pandas as pd\n",
        "import matplotlib.pyplot as plt\n",
        "import numpy as np\n",
        "import statsmodels.api as sm\n",
        "\n",
        "from libpysal.weights import Queen\n",
        "from splot.esda import plot_moran\n",
        "from esda.moran import Moran\n",
        "import spreg"
      ],
      "metadata": {
        "id": "4JFPjpkorrhr"
      },
      "execution_count": 3,
      "outputs": []
    },
    {
      "cell_type": "markdown",
      "source": [
        "Code to read in data and merge them into one final `GeoDataFrame`."
      ],
      "metadata": {
        "id": "4DoUQPHTy039"
      }
    },
    {
      "cell_type": "code",
      "source": [
        "health_url = \"https://raw.github.com/Ziqi-Li/GIS5122/main/data/cdc_health_county.csv\"\n",
        "health = pd.read_csv(health_url)"
      ],
      "metadata": {
        "id": "BZCRG_jmy0Zx"
      },
      "execution_count": 4,
      "outputs": []
    },
    {
      "cell_type": "code",
      "source": [
        "socio_demo_url = \"https://raw.github.com/Ziqi-Li/GIS5122/main/data/acs_2019.csv\"\n",
        "socio_demo = pd.read_csv(socio_demo_url)"
      ],
      "metadata": {
        "id": "v1KGhaV1M4FG"
      },
      "execution_count": 5,
      "outputs": []
    },
    {
      "cell_type": "code",
      "source": [
        "counties_url = \"https://raw.github.com/Ziqi-Li/gis5122/master/data/us_counties.geojson\"\n",
        "counties = gpd.read_file(counties_url)"
      ],
      "metadata": {
        "id": "flgMh4FA2R7k"
      },
      "execution_count": 6,
      "outputs": []
    },
    {
      "cell_type": "code",
      "source": [
        "income_health = pd.merge(socio_demo, health, left_on = \"county_id\", right_on = \"LocationID\")"
      ],
      "metadata": {
        "id": "APDrEO1kzfDy"
      },
      "execution_count": 7,
      "outputs": []
    },
    {
      "cell_type": "code",
      "source": [
        "gdf_income_health = pd.merge(counties, income_health, on = \"county_id\")"
      ],
      "metadata": {
        "id": "v6Rn9zWTzfG8"
      },
      "execution_count": 8,
      "outputs": []
    },
    {
      "cell_type": "markdown",
      "source": [
        "Your code will start here, and your analysis will be based on this GeoDataFrame `gdf_income_health`."
      ],
      "metadata": {
        "id": "IOSNbM0q2vi9"
      }
    },
    {
      "cell_type": "code",
      "source": [],
      "metadata": {
        "id": "tbgq4cLmzfOV"
      },
      "execution_count": 8,
      "outputs": []
    },
    {
      "cell_type": "code",
      "source": [],
      "metadata": {
        "id": "Y5vxJcVpzfSJ"
      },
      "execution_count": 8,
      "outputs": []
    },
    {
      "cell_type": "code",
      "source": [],
      "metadata": {
        "id": "1TpC9QXnM4HY"
      },
      "execution_count": 8,
      "outputs": []
    }
  ]
}