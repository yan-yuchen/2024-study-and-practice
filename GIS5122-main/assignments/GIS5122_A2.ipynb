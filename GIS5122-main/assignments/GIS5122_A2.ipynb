{
  "nbformat": 4,
  "nbformat_minor": 0,
  "metadata": {
    "colab": {
      "provenance": [],
      "mount_file_id": "1KP0_8_IFT6-7XUF8_PpgmtdTBcn0bS_c",
      "authorship_tag": "ABX9TyNDTeGN1KNrWpOm9J+feIfE",
      "include_colab_link": true
    },
    "kernelspec": {
      "name": "python3",
      "display_name": "Python 3"
    },
    "language_info": {
      "name": "python"
    }
  },
  "cells": [
    {
      "cell_type": "markdown",
      "metadata": {
        "id": "view-in-github",
        "colab_type": "text"
      },
      "source": [
        "<a href=\"https://colab.research.google.com/github/Ziqi-Li/GIS5122/blob/main/assignments/GIS5122_A2.ipynb\" target=\"_parent\"><img src=\"https://colab.research.google.com/assets/colab-badge.svg\" alt=\"Open In Colab\"/></a>"
      ]
    },
    {
      "cell_type": "markdown",
      "source": [
        "# Assignment 2\n",
        "Due date/time: Feb 23 Fri 23:59pm\n",
        "\n",
        "**Instruction**: Make a copy of this notebook and read through the questions and instructions. Write down code/text to perform the analysis.\n",
        "\n",
        "**Submission**: After you finish working on this notebook, click File->Download->Download .ipynb\n",
        "\n",
        "Please submit a notebook named A2_your_name.ipynb on Canvas."
      ],
      "metadata": {
        "id": "sqjesvPPEket"
      }
    },
    {
      "cell_type": "markdown",
      "source": [
        "# Data and instructions\n",
        "\n",
        "In this assignment, we will be performing Point Pattern Analysis on crime (offenses) location data in Tempe, Arizona. I was about to find data available for FL but FL does not publish address level crime data.\n",
        "\n",
        "As a first step. the dataset needs to be downloaded from [Here](https://data.tempe.gov/datasets/tempegov::general-offenses-open-data/explore?location=33.380547%2C-111.897684%2C12.33). You can download in either geojson or shapefile format.\n",
        "\n",
        "Upload to Google Colab in your favorite way and read it in using `geopandas`.\n",
        "\n",
        "The data has a year column `OccurrenceYear`. Please use `geopandas` to subset your data JUST for a particular year (e.g., 2018). For some years, there might be spatial outliers that are apparently outside of the main cluster and you need to remove them. For some other years, there are no outliers.\n",
        "\n",
        "All the subsequent analysis are based on this single-year crime data.\n"
      ],
      "metadata": {
        "id": "nlUts3saotCm"
      }
    },
    {
      "cell_type": "markdown",
      "source": [
        "First you need to install the two packages that are not available in Google Colab by running the below code."
      ],
      "metadata": {
        "id": "IEgybfZozCv4"
      }
    },
    {
      "cell_type": "code",
      "source": [
        "pip install -q contextily"
      ],
      "metadata": {
        "id": "_PICHtnc03s_",
        "colab": {
          "base_uri": "https://localhost:8080/"
        },
        "outputId": "7809296f-38c8-467d-d57f-5c7edd81b9e9"
      },
      "execution_count": null,
      "outputs": [
        {
          "output_type": "stream",
          "name": "stdout",
          "text": [
            "\u001b[2K     \u001b[90m━━━━━━━━━━━━━━━━━━━━━━━━━━━━━━━━━━━━━━━━\u001b[0m \u001b[32m20.6/20.6 MB\u001b[0m \u001b[31m37.7 MB/s\u001b[0m eta \u001b[36m0:00:00\u001b[0m\n",
            "\u001b[?25h"
          ]
        }
      ]
    },
    {
      "cell_type": "markdown",
      "source": [
        "**Note:** If you work with your own local python env and have higher version of `numpy or pointpats`. Please see this [example](https://github.com/Ziqi-Li/GIS5122/blob/main/notebooks/W5%20Point%20Pattern%20Analysis%20Cholera%20(for%20point%20pats%20v2.4.0%20and%20later%20numpy).ipynb).\n",
        "\n",
        "If you work on Colab, please refer to this [example](https://github.com/Ziqi-Li/GIS5122/blob/main/notebooks/W5%20Point_Pattern_Analysis_Cholera%20(Colab).ipynb), and install the `pointpats` as follows:"
      ],
      "metadata": {
        "id": "1ooSNv8jO3AP"
      }
    },
    {
      "cell_type": "code",
      "source": [
        "pip install -q https://github.com/Ziqi-Li/pointpats/archive/v2.3.zip"
      ],
      "metadata": {
        "id": "cenqjqJRrzeG",
        "colab": {
          "base_uri": "https://localhost:8080/"
        },
        "outputId": "9a89b8af-3615-4c66-d1ac-b0db49c9c0f0"
      },
      "execution_count": null,
      "outputs": [
        {
          "output_type": "stream",
          "name": "stdout",
          "text": [
            "\u001b[2K     \u001b[90m━━━━━━━━━━━━━━━━━━━━━━━━━━━━━━━━━━━━━━━━\u001b[0m \u001b[32m59.2/59.2 kB\u001b[0m \u001b[31m1.4 MB/s\u001b[0m eta \u001b[36m0:00:00\u001b[0m\n",
            "\u001b[2K     \u001b[90m━━━━━━━━━━━━━━━━━━━━━━━━━━━━━━━━━━━━━━━━\u001b[0m \u001b[32m2.8/2.8 MB\u001b[0m \u001b[31m29.8 MB/s\u001b[0m eta \u001b[36m0:00:00\u001b[0m\n",
            "\u001b[?25h"
          ]
        }
      ]
    },
    {
      "cell_type": "markdown",
      "source": [
        "Then import all the packages needed to run the analysis"
      ],
      "metadata": {
        "id": "Z14JaGaIzMMK"
      }
    },
    {
      "cell_type": "code",
      "source": [
        "import geopandas as gpd\n",
        "import seaborn as sns\n",
        "import matplotlib.pyplot as plt\n",
        "import numpy as np\n",
        "import contextily as cx\n",
        "\n",
        "from pointpats import distance_statistics as stats\n",
        "from pointpats import PointPattern, PoissonPointProcess\n"
      ],
      "metadata": {
        "id": "4JFPjpkorrhr"
      },
      "execution_count": null,
      "outputs": []
    },
    {
      "cell_type": "markdown",
      "source": [
        "## Question 1 (50%)\n",
        "\n",
        "**Part 1:** Use Kernel Density Estimation to visualize the density distribution of crime incidents in the city of Tempe (AZ).\n",
        "Please choose proper **bandwidth** and color parameters. Add a basemap image underneath using `contextily`. (30%)\n",
        "\n",
        "**Part 2**: Write 2-3 sentences describing the pattern you see and indidating where are the places that are having the highest crime density (you may further refer to google maps for additional context of the area) (20%)"
      ],
      "metadata": {
        "id": "AjKTOd_qKolS"
      }
    },
    {
      "cell_type": "code",
      "source": [],
      "metadata": {
        "id": "HuRIs5jRqNDM"
      },
      "execution_count": null,
      "outputs": []
    },
    {
      "cell_type": "code",
      "source": [],
      "metadata": {
        "id": "IxC0w8FRzdFK"
      },
      "execution_count": null,
      "outputs": []
    },
    {
      "cell_type": "code",
      "source": [],
      "metadata": {
        "id": "u1susBQczdIr"
      },
      "execution_count": null,
      "outputs": []
    },
    {
      "cell_type": "code",
      "source": [],
      "metadata": {
        "id": "BOCkP9W7zdMK"
      },
      "execution_count": null,
      "outputs": []
    },
    {
      "cell_type": "code",
      "source": [],
      "metadata": {
        "id": "sjOsC3p5Kvzt"
      },
      "execution_count": null,
      "outputs": []
    },
    {
      "cell_type": "markdown",
      "source": [
        "## Question 2 (50%)\n",
        "**Part 1.** Use the `pointpats` library to calculate and visualize the G function curve and K function curve. (20%)\n",
        "\n",
        "**Part 2.** Write 2-3 sentences to describe and interpret both plots, and indicate whether the pattern is statistically clustered, random or regular. (20%)\n",
        "\n",
        "**Part 3.** Use 1-2 sentences to briefly describe the methodological difference between the G function and K function. (10%)"
      ],
      "metadata": {
        "id": "52nZxKE5L-54"
      }
    },
    {
      "cell_type": "code",
      "source": [],
      "metadata": {
        "id": "v1KGhaV1M4FG"
      },
      "execution_count": null,
      "outputs": []
    },
    {
      "cell_type": "code",
      "source": [],
      "metadata": {
        "id": "APDrEO1kzfDy"
      },
      "execution_count": null,
      "outputs": []
    },
    {
      "cell_type": "code",
      "source": [],
      "metadata": {
        "id": "v6Rn9zWTzfG8"
      },
      "execution_count": null,
      "outputs": []
    },
    {
      "cell_type": "code",
      "source": [],
      "metadata": {
        "id": "PeErxWObzfKy"
      },
      "execution_count": null,
      "outputs": []
    },
    {
      "cell_type": "code",
      "source": [],
      "metadata": {
        "id": "tbgq4cLmzfOV"
      },
      "execution_count": null,
      "outputs": []
    },
    {
      "cell_type": "code",
      "source": [],
      "metadata": {
        "id": "Y5vxJcVpzfSJ"
      },
      "execution_count": null,
      "outputs": []
    },
    {
      "cell_type": "code",
      "source": [],
      "metadata": {
        "id": "1TpC9QXnM4HY"
      },
      "execution_count": null,
      "outputs": []
    }
  ]
}