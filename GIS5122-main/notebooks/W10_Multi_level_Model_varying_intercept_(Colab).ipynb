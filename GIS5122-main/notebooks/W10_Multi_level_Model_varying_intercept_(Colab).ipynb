{
  "cells": [
    {
      "cell_type": "markdown",
      "metadata": {
        "id": "view-in-github",
        "colab_type": "text"
      },
      "source": [
        "<a href=\"https://colab.research.google.com/github/Ziqi-Li/GIS5122/blob/main/notebooks/W10_Multi_level_Model_varying_intercept_(Colab).ipynb\" target=\"_parent\"><img src=\"https://colab.research.google.com/assets/colab-badge.svg\" alt=\"Open In Colab\"/></a>"
      ]
    },
    {
      "cell_type": "markdown",
      "metadata": {
        "id": "M6pkllfdjCZn"
      },
      "source": [
        "### Multi-level models (Varying Intercept)\n",
        "***\n",
        "This is a workaround to run the model in Google Colab. However, installing the packages every time would be a little inconvience and take extra time."
      ]
    },
    {
      "cell_type": "markdown",
      "metadata": {
        "id": "1S90a3rwjCZo"
      },
      "source": [
        "#### Installation\n"
      ]
    },
    {
      "cell_type": "code",
      "source": [
        "pip install -q pymer4==0.7.8"
      ],
      "metadata": {
        "colab": {
          "base_uri": "https://localhost:8080/"
        },
        "id": "nDvn_KLg2XKM",
        "outputId": "d0528328-ab9d-491a-934a-7e0b373c9452"
      },
      "execution_count": 1,
      "outputs": [
        {
          "output_type": "stream",
          "name": "stdout",
          "text": [
            "\u001b[2K     \u001b[90m━━━━━━━━━━━━━━━━━━━━━━━━━━━━━━━━━━━━━━━━\u001b[0m \u001b[32m59.0/59.0 kB\u001b[0m \u001b[31m1.7 MB/s\u001b[0m eta \u001b[36m0:00:00\u001b[0m\n",
            "\u001b[2K     \u001b[90m━━━━━━━━━━━━━━━━━━━━━━━━━━━━━━━━━━━━━━━━\u001b[0m \u001b[32m194.4/194.4 kB\u001b[0m \u001b[31m5.5 MB/s\u001b[0m eta \u001b[36m0:00:00\u001b[0m\n",
            "\u001b[?25h  Preparing metadata (setup.py) ... \u001b[?25l\u001b[?25hdone\n",
            "  Building wheel for rpy2 (setup.py) ... \u001b[?25l\u001b[?25hdone\n"
          ]
        }
      ]
    },
    {
      "cell_type": "code",
      "source": [
        "import rpy2.ipython\n",
        "%load_ext rpy2.ipython\n",
        "\n",
        "import logging\n",
        "# Suppress Python warnings for rpy2 callbacks\n",
        "logging.getLogger('rpy2.rinterface_lib.callbacks').setLevel(logging.ERROR)"
      ],
      "metadata": {
        "id": "MIqqIxactuiw"
      },
      "execution_count": 2,
      "outputs": []
    },
    {
      "cell_type": "code",
      "source": [
        "%%time\n",
        "#This may take a while (~5 mins)\n",
        "%R install.packages(\"lme4\")\n",
        "%R install.packages(\"lmerTest\");"
      ],
      "metadata": {
        "colab": {
          "base_uri": "https://localhost:8080/"
        },
        "id": "HobZUf-9tvfl",
        "outputId": "2bd91e08-ac43-4b11-f2fd-b45d8cd3e0a4"
      },
      "execution_count": 3,
      "outputs": [
        {
          "output_type": "stream",
          "name": "stdout",
          "text": [
            "CPU times: user 3.82 s, sys: 354 ms, total: 4.18 s\n",
            "Wall time: 5min 14s\n"
          ]
        }
      ]
    },
    {
      "cell_type": "code",
      "source": [],
      "metadata": {
        "id": "J13q9ncGuT3L"
      },
      "execution_count": 3,
      "outputs": []
    },
    {
      "cell_type": "markdown",
      "metadata": {
        "id": "PyZAPEehjCZp"
      },
      "source": [
        "Load packages"
      ]
    },
    {
      "cell_type": "code",
      "execution_count": 4,
      "metadata": {
        "id": "W9Nt60sLjCZp"
      },
      "outputs": [],
      "source": [
        "import numpy as np\n",
        "import matplotlib.pyplot as plt\n",
        "import geopandas as gpd\n",
        "import pandas as pd"
      ]
    },
    {
      "cell_type": "code",
      "source": [
        "from pymer4.models import Lmer"
      ],
      "metadata": {
        "id": "rZm7la_B2fMh"
      },
      "execution_count": 5,
      "outputs": []
    },
    {
      "cell_type": "markdown",
      "metadata": {
        "id": "hHqYHIiHjCZp"
      },
      "source": [
        "We will be using the same voting data to demostrate the MLM. The data is slightly different in the fact that it has an extra column indicating the governer of the state in which a county belongs to.\n",
        "\n",
        "Load voting dataset"
      ]
    },
    {
      "cell_type": "code",
      "execution_count": 6,
      "metadata": {
        "id": "3PBDYgJOjCZp"
      },
      "outputs": [],
      "source": [
        "voting = pd.read_csv('https://raw.github.com/Ziqi-Li/gis5122/master/data/voting_2020_with_gov.csv')\n",
        "\n",
        "voting['is_dem_gov']= (voting.party == 'democrat')"
      ]
    },
    {
      "cell_type": "code",
      "execution_count": 7,
      "metadata": {
        "id": "L8RAvR2zjCZq"
      },
      "outputs": [],
      "source": [
        "shp = gpd.read_file(\"https://raw.github.com/Ziqi-Li/gis5122/master/data/us_counties.geojson\")"
      ]
    },
    {
      "cell_type": "code",
      "execution_count": 8,
      "metadata": {
        "id": "GVwr6yhfjCZq"
      },
      "outputs": [],
      "source": [
        "#Merge the shapefile with the voting data by the common county_id\n",
        "shp_voting = shp.merge(voting, on =\"county_id\")\n",
        "\n",
        "shp_voting_df = shp_voting.drop(columns='geometry')\n",
        "\n",
        "#Dissolve the counties to obtain boundary of states, used for mapping\n",
        "state = shp_voting.dissolve(by='STATEFP').geometry.boundary"
      ]
    },
    {
      "cell_type": "markdown",
      "metadata": {
        "id": "sVOBEx_djCZq"
      },
      "source": [
        "### Fit an MLM model (Varying intercept by state)"
      ]
    },
    {
      "cell_type": "markdown",
      "metadata": {
        "id": "ESDIyMunjCZq"
      },
      "source": [
        "Let us first look at a pair wise comaprison between\n",
        "\n",
        "- California vs. Massachusetts\n",
        "- California vs. Texas\n",
        "\n",
        "Note that the State's FIPS code is:\n",
        "\n",
        "CA:06;MA:25;TX:48"
      ]
    },
    {
      "cell_type": "code",
      "execution_count": 9,
      "metadata": {
        "id": "4Xd0Z6V-jCZq"
      },
      "outputs": [],
      "source": [
        "ca_ma = shp_voting_df[shp_voting_df['state'].isin([6, 25])]\n",
        "\n",
        "ca_tx = shp_voting_df[shp_voting_df['state'].isin([6, 48])]"
      ]
    },
    {
      "cell_type": "markdown",
      "metadata": {
        "id": "Cdrezr_IjCZq"
      },
      "source": [
        "The `Lmer()` takes a formula where follows the format `y ~ X`. 1 indicates adding an intercept, and `(1|state)` allowing the intercept to vary across states."
      ]
    },
    {
      "cell_type": "markdown",
      "metadata": {
        "id": "8ruZgSUKjCZq"
      },
      "source": [
        "California vs. Texas"
      ]
    },
    {
      "cell_type": "code",
      "execution_count": 10,
      "metadata": {
        "colab": {
          "base_uri": "https://localhost:8080/",
          "height": 440
        },
        "id": "8eS0tG9LjCZr",
        "outputId": "238bad79-f1df-405f-d1ee-a8815bb3b06e"
      },
      "outputs": [
        {
          "output_type": "stream",
          "name": "stderr",
          "text": [
            "/usr/local/lib/python3.10/dist-packages/rpy2/robjects/pandas2ri.py:55: FutureWarning: iteritems is deprecated and will be removed in a future version. Use .items instead.\n",
            "  for name, values in obj.iteritems():\n"
          ]
        },
        {
          "output_type": "stream",
          "name": "stdout",
          "text": [
            "Formula: new_pct_dem~1+(1|state)\n",
            "\n",
            "Family: gaussian\t Inference: parametric\n",
            "\n",
            "Number of observations: 312\t Groups: {'state': 2.0}\n",
            "\n",
            "Log-likelihood: -1278.940 \t AIC: 2557.881\n",
            "\n",
            "Random effects:\n",
            "\n",
            "                 Name      Var     Std\n",
            "state     (Intercept)  458.854  21.421\n",
            "Residual               210.864  14.521\n",
            "\n",
            "No random effect correlations specified\n",
            "\n",
            "Fixed effects:\n",
            "\n"
          ]
        },
        {
          "output_type": "execute_result",
          "data": {
            "text/plain": [
              "             Estimate  2.5_ci  97.5_ci      SE   DF  T-stat  P-val Sig\n",
              "(Intercept)    39.981  10.222    69.74  15.184  1.0   2.633  0.231    "
            ],
            "text/html": [
              "\n",
              "  <div id=\"df-cd14a259-35c9-4950-b117-89fa26885954\" class=\"colab-df-container\">\n",
              "    <div>\n",
              "<style scoped>\n",
              "    .dataframe tbody tr th:only-of-type {\n",
              "        vertical-align: middle;\n",
              "    }\n",
              "\n",
              "    .dataframe tbody tr th {\n",
              "        vertical-align: top;\n",
              "    }\n",
              "\n",
              "    .dataframe thead th {\n",
              "        text-align: right;\n",
              "    }\n",
              "</style>\n",
              "<table border=\"1\" class=\"dataframe\">\n",
              "  <thead>\n",
              "    <tr style=\"text-align: right;\">\n",
              "      <th></th>\n",
              "      <th>Estimate</th>\n",
              "      <th>2.5_ci</th>\n",
              "      <th>97.5_ci</th>\n",
              "      <th>SE</th>\n",
              "      <th>DF</th>\n",
              "      <th>T-stat</th>\n",
              "      <th>P-val</th>\n",
              "      <th>Sig</th>\n",
              "    </tr>\n",
              "  </thead>\n",
              "  <tbody>\n",
              "    <tr>\n",
              "      <th>(Intercept)</th>\n",
              "      <td>39.981</td>\n",
              "      <td>10.222</td>\n",
              "      <td>69.74</td>\n",
              "      <td>15.184</td>\n",
              "      <td>1.0</td>\n",
              "      <td>2.633</td>\n",
              "      <td>0.231</td>\n",
              "      <td></td>\n",
              "    </tr>\n",
              "  </tbody>\n",
              "</table>\n",
              "</div>\n",
              "    <div class=\"colab-df-buttons\">\n",
              "\n",
              "  <div class=\"colab-df-container\">\n",
              "    <button class=\"colab-df-convert\" onclick=\"convertToInteractive('df-cd14a259-35c9-4950-b117-89fa26885954')\"\n",
              "            title=\"Convert this dataframe to an interactive table.\"\n",
              "            style=\"display:none;\">\n",
              "\n",
              "  <svg xmlns=\"http://www.w3.org/2000/svg\" height=\"24px\" viewBox=\"0 -960 960 960\">\n",
              "    <path d=\"M120-120v-720h720v720H120Zm60-500h600v-160H180v160Zm220 220h160v-160H400v160Zm0 220h160v-160H400v160ZM180-400h160v-160H180v160Zm440 0h160v-160H620v160ZM180-180h160v-160H180v160Zm440 0h160v-160H620v160Z\"/>\n",
              "  </svg>\n",
              "    </button>\n",
              "\n",
              "  <style>\n",
              "    .colab-df-container {\n",
              "      display:flex;\n",
              "      gap: 12px;\n",
              "    }\n",
              "\n",
              "    .colab-df-convert {\n",
              "      background-color: #E8F0FE;\n",
              "      border: none;\n",
              "      border-radius: 50%;\n",
              "      cursor: pointer;\n",
              "      display: none;\n",
              "      fill: #1967D2;\n",
              "      height: 32px;\n",
              "      padding: 0 0 0 0;\n",
              "      width: 32px;\n",
              "    }\n",
              "\n",
              "    .colab-df-convert:hover {\n",
              "      background-color: #E2EBFA;\n",
              "      box-shadow: 0px 1px 2px rgba(60, 64, 67, 0.3), 0px 1px 3px 1px rgba(60, 64, 67, 0.15);\n",
              "      fill: #174EA6;\n",
              "    }\n",
              "\n",
              "    .colab-df-buttons div {\n",
              "      margin-bottom: 4px;\n",
              "    }\n",
              "\n",
              "    [theme=dark] .colab-df-convert {\n",
              "      background-color: #3B4455;\n",
              "      fill: #D2E3FC;\n",
              "    }\n",
              "\n",
              "    [theme=dark] .colab-df-convert:hover {\n",
              "      background-color: #434B5C;\n",
              "      box-shadow: 0px 1px 3px 1px rgba(0, 0, 0, 0.15);\n",
              "      filter: drop-shadow(0px 1px 2px rgba(0, 0, 0, 0.3));\n",
              "      fill: #FFFFFF;\n",
              "    }\n",
              "  </style>\n",
              "\n",
              "    <script>\n",
              "      const buttonEl =\n",
              "        document.querySelector('#df-cd14a259-35c9-4950-b117-89fa26885954 button.colab-df-convert');\n",
              "      buttonEl.style.display =\n",
              "        google.colab.kernel.accessAllowed ? 'block' : 'none';\n",
              "\n",
              "      async function convertToInteractive(key) {\n",
              "        const element = document.querySelector('#df-cd14a259-35c9-4950-b117-89fa26885954');\n",
              "        const dataTable =\n",
              "          await google.colab.kernel.invokeFunction('convertToInteractive',\n",
              "                                                    [key], {});\n",
              "        if (!dataTable) return;\n",
              "\n",
              "        const docLinkHtml = 'Like what you see? Visit the ' +\n",
              "          '<a target=\"_blank\" href=https://colab.research.google.com/notebooks/data_table.ipynb>data table notebook</a>'\n",
              "          + ' to learn more about interactive tables.';\n",
              "        element.innerHTML = '';\n",
              "        dataTable['output_type'] = 'display_data';\n",
              "        await google.colab.output.renderOutput(dataTable, element);\n",
              "        const docLink = document.createElement('div');\n",
              "        docLink.innerHTML = docLinkHtml;\n",
              "        element.appendChild(docLink);\n",
              "      }\n",
              "    </script>\n",
              "  </div>\n",
              "\n",
              "\n",
              "    </div>\n",
              "  </div>\n"
            ],
            "application/vnd.google.colaboratory.intrinsic+json": {
              "type": "dataframe",
              "summary": "{\n  \"name\": \"model\",\n  \"rows\": 1,\n  \"fields\": [\n    {\n      \"column\": \"Estimate\",\n      \"properties\": {\n        \"dtype\": \"number\",\n        \"std\": null,\n        \"min\": 39.981,\n        \"max\": 39.981,\n        \"num_unique_values\": 1,\n        \"samples\": [\n          39.981\n        ],\n        \"semantic_type\": \"\",\n        \"description\": \"\"\n      }\n    },\n    {\n      \"column\": \"2.5_ci\",\n      \"properties\": {\n        \"dtype\": \"number\",\n        \"std\": null,\n        \"min\": 10.222,\n        \"max\": 10.222,\n        \"num_unique_values\": 1,\n        \"samples\": [\n          10.222\n        ],\n        \"semantic_type\": \"\",\n        \"description\": \"\"\n      }\n    },\n    {\n      \"column\": \"97.5_ci\",\n      \"properties\": {\n        \"dtype\": \"number\",\n        \"std\": null,\n        \"min\": 69.74,\n        \"max\": 69.74,\n        \"num_unique_values\": 1,\n        \"samples\": [\n          69.74\n        ],\n        \"semantic_type\": \"\",\n        \"description\": \"\"\n      }\n    },\n    {\n      \"column\": \"SE\",\n      \"properties\": {\n        \"dtype\": \"number\",\n        \"std\": null,\n        \"min\": 15.184,\n        \"max\": 15.184,\n        \"num_unique_values\": 1,\n        \"samples\": [\n          15.184\n        ],\n        \"semantic_type\": \"\",\n        \"description\": \"\"\n      }\n    },\n    {\n      \"column\": \"DF\",\n      \"properties\": {\n        \"dtype\": \"number\",\n        \"std\": null,\n        \"min\": 1.0,\n        \"max\": 1.0,\n        \"num_unique_values\": 1,\n        \"samples\": [\n          1.0\n        ],\n        \"semantic_type\": \"\",\n        \"description\": \"\"\n      }\n    },\n    {\n      \"column\": \"T-stat\",\n      \"properties\": {\n        \"dtype\": \"number\",\n        \"std\": null,\n        \"min\": 2.633,\n        \"max\": 2.633,\n        \"num_unique_values\": 1,\n        \"samples\": [\n          2.633\n        ],\n        \"semantic_type\": \"\",\n        \"description\": \"\"\n      }\n    },\n    {\n      \"column\": \"P-val\",\n      \"properties\": {\n        \"dtype\": \"number\",\n        \"std\": null,\n        \"min\": 0.231,\n        \"max\": 0.231,\n        \"num_unique_values\": 1,\n        \"samples\": [\n          0.231\n        ],\n        \"semantic_type\": \"\",\n        \"description\": \"\"\n      }\n    },\n    {\n      \"column\": \"Sig\",\n      \"properties\": {\n        \"dtype\": \"object\",\n        \"num_unique_values\": 1,\n        \"samples\": [\n          \"\"\n        ],\n        \"semantic_type\": \"\",\n        \"description\": \"\"\n      }\n    }\n  ]\n}"
            }
          },
          "metadata": {},
          "execution_count": 10
        }
      ],
      "source": [
        "from pymer4.models import Lmer\n",
        "\n",
        "model = Lmer('new_pct_dem ~ 1 + (1|state)', data=ca_tx)\n",
        "\n",
        "model.fit()"
      ]
    },
    {
      "cell_type": "markdown",
      "metadata": {
        "id": "IEvIghKEjCZr"
      },
      "source": [
        "From the summary:\n",
        "\n",
        "- There are 312 observations (total number of counties in CA + total number of counties in TX)\n",
        "- There are 2 groups\n",
        "- The model has an AIC of 2557.881\n",
        "- The state-lavel random effect has an estimated variance of 458.854 with a Std of 21.421\n",
        "- The residual has an estimated variance 210.864 with a std of 14.521.\n",
        "- The Variance Partition Coefficient (VPC) = 458.854/(458.854+210.864) = 68.5%. This means 68.5% of the variance in the voting preference can be attributed to the fact that counties belong to two seperate states.\n",
        "- The interpretation to the fixed effects are the same as we do in the linear regression. There are no predictors, only one intercept here, and the intercept estimate is 39.981, and it is not statistically significance (p-value = 0.231 > 0.05).\n",
        "\n"
      ]
    },
    {
      "cell_type": "markdown",
      "metadata": {
        "id": "gUSMBNUTjCZr"
      },
      "source": [
        "California vs. Mass."
      ]
    },
    {
      "cell_type": "code",
      "execution_count": 11,
      "metadata": {
        "id": "UjSu2yo0jCZr",
        "colab": {
          "base_uri": "https://localhost:8080/",
          "height": 440
        },
        "outputId": "2056ddb1-8bbb-45c2-8961-00f96f2a0249"
      },
      "outputs": [
        {
          "output_type": "stream",
          "name": "stderr",
          "text": [
            "/usr/local/lib/python3.10/dist-packages/rpy2/robjects/pandas2ri.py:55: FutureWarning: iteritems is deprecated and will be removed in a future version. Use .items instead.\n",
            "  for name, values in obj.iteritems():\n"
          ]
        },
        {
          "output_type": "stream",
          "name": "stdout",
          "text": [
            "Formula: new_pct_dem~1+(1|state)\n",
            "\n",
            "Family: gaussian\t Inference: parametric\n",
            "\n",
            "Number of observations: 72\t Groups: {'state': 2.0}\n",
            "\n",
            "Log-likelihood: -293.063 \t AIC: 586.127\n",
            "\n",
            "Random effects:\n",
            "\n",
            "                 Name      Var     Std\n",
            "state     (Intercept)   77.881   8.825\n",
            "Residual               205.493  14.335\n",
            "\n",
            "No random effect correlations specified\n",
            "\n",
            "Fixed effects:\n",
            "\n"
          ]
        },
        {
          "output_type": "execute_result",
          "data": {
            "text/plain": [
              "             Estimate  2.5_ci  97.5_ci     SE     DF  T-stat  P-val Sig\n",
              "(Intercept)    61.384  48.484   74.284  6.582  0.984   9.327   0.07   ."
            ],
            "text/html": [
              "\n",
              "  <div id=\"df-ac8072ba-2c78-4a7d-8055-bcd2fbf85a09\" class=\"colab-df-container\">\n",
              "    <div>\n",
              "<style scoped>\n",
              "    .dataframe tbody tr th:only-of-type {\n",
              "        vertical-align: middle;\n",
              "    }\n",
              "\n",
              "    .dataframe tbody tr th {\n",
              "        vertical-align: top;\n",
              "    }\n",
              "\n",
              "    .dataframe thead th {\n",
              "        text-align: right;\n",
              "    }\n",
              "</style>\n",
              "<table border=\"1\" class=\"dataframe\">\n",
              "  <thead>\n",
              "    <tr style=\"text-align: right;\">\n",
              "      <th></th>\n",
              "      <th>Estimate</th>\n",
              "      <th>2.5_ci</th>\n",
              "      <th>97.5_ci</th>\n",
              "      <th>SE</th>\n",
              "      <th>DF</th>\n",
              "      <th>T-stat</th>\n",
              "      <th>P-val</th>\n",
              "      <th>Sig</th>\n",
              "    </tr>\n",
              "  </thead>\n",
              "  <tbody>\n",
              "    <tr>\n",
              "      <th>(Intercept)</th>\n",
              "      <td>61.384</td>\n",
              "      <td>48.484</td>\n",
              "      <td>74.284</td>\n",
              "      <td>6.582</td>\n",
              "      <td>0.984</td>\n",
              "      <td>9.327</td>\n",
              "      <td>0.07</td>\n",
              "      <td>.</td>\n",
              "    </tr>\n",
              "  </tbody>\n",
              "</table>\n",
              "</div>\n",
              "    <div class=\"colab-df-buttons\">\n",
              "\n",
              "  <div class=\"colab-df-container\">\n",
              "    <button class=\"colab-df-convert\" onclick=\"convertToInteractive('df-ac8072ba-2c78-4a7d-8055-bcd2fbf85a09')\"\n",
              "            title=\"Convert this dataframe to an interactive table.\"\n",
              "            style=\"display:none;\">\n",
              "\n",
              "  <svg xmlns=\"http://www.w3.org/2000/svg\" height=\"24px\" viewBox=\"0 -960 960 960\">\n",
              "    <path d=\"M120-120v-720h720v720H120Zm60-500h600v-160H180v160Zm220 220h160v-160H400v160Zm0 220h160v-160H400v160ZM180-400h160v-160H180v160Zm440 0h160v-160H620v160ZM180-180h160v-160H180v160Zm440 0h160v-160H620v160Z\"/>\n",
              "  </svg>\n",
              "    </button>\n",
              "\n",
              "  <style>\n",
              "    .colab-df-container {\n",
              "      display:flex;\n",
              "      gap: 12px;\n",
              "    }\n",
              "\n",
              "    .colab-df-convert {\n",
              "      background-color: #E8F0FE;\n",
              "      border: none;\n",
              "      border-radius: 50%;\n",
              "      cursor: pointer;\n",
              "      display: none;\n",
              "      fill: #1967D2;\n",
              "      height: 32px;\n",
              "      padding: 0 0 0 0;\n",
              "      width: 32px;\n",
              "    }\n",
              "\n",
              "    .colab-df-convert:hover {\n",
              "      background-color: #E2EBFA;\n",
              "      box-shadow: 0px 1px 2px rgba(60, 64, 67, 0.3), 0px 1px 3px 1px rgba(60, 64, 67, 0.15);\n",
              "      fill: #174EA6;\n",
              "    }\n",
              "\n",
              "    .colab-df-buttons div {\n",
              "      margin-bottom: 4px;\n",
              "    }\n",
              "\n",
              "    [theme=dark] .colab-df-convert {\n",
              "      background-color: #3B4455;\n",
              "      fill: #D2E3FC;\n",
              "    }\n",
              "\n",
              "    [theme=dark] .colab-df-convert:hover {\n",
              "      background-color: #434B5C;\n",
              "      box-shadow: 0px 1px 3px 1px rgba(0, 0, 0, 0.15);\n",
              "      filter: drop-shadow(0px 1px 2px rgba(0, 0, 0, 0.3));\n",
              "      fill: #FFFFFF;\n",
              "    }\n",
              "  </style>\n",
              "\n",
              "    <script>\n",
              "      const buttonEl =\n",
              "        document.querySelector('#df-ac8072ba-2c78-4a7d-8055-bcd2fbf85a09 button.colab-df-convert');\n",
              "      buttonEl.style.display =\n",
              "        google.colab.kernel.accessAllowed ? 'block' : 'none';\n",
              "\n",
              "      async function convertToInteractive(key) {\n",
              "        const element = document.querySelector('#df-ac8072ba-2c78-4a7d-8055-bcd2fbf85a09');\n",
              "        const dataTable =\n",
              "          await google.colab.kernel.invokeFunction('convertToInteractive',\n",
              "                                                    [key], {});\n",
              "        if (!dataTable) return;\n",
              "\n",
              "        const docLinkHtml = 'Like what you see? Visit the ' +\n",
              "          '<a target=\"_blank\" href=https://colab.research.google.com/notebooks/data_table.ipynb>data table notebook</a>'\n",
              "          + ' to learn more about interactive tables.';\n",
              "        element.innerHTML = '';\n",
              "        dataTable['output_type'] = 'display_data';\n",
              "        await google.colab.output.renderOutput(dataTable, element);\n",
              "        const docLink = document.createElement('div');\n",
              "        docLink.innerHTML = docLinkHtml;\n",
              "        element.appendChild(docLink);\n",
              "      }\n",
              "    </script>\n",
              "  </div>\n",
              "\n",
              "\n",
              "    </div>\n",
              "  </div>\n"
            ],
            "application/vnd.google.colaboratory.intrinsic+json": {
              "type": "dataframe",
              "summary": "{\n  \"name\": \"model2\",\n  \"rows\": 1,\n  \"fields\": [\n    {\n      \"column\": \"Estimate\",\n      \"properties\": {\n        \"dtype\": \"number\",\n        \"std\": null,\n        \"min\": 61.384,\n        \"max\": 61.384,\n        \"num_unique_values\": 1,\n        \"samples\": [\n          61.384\n        ],\n        \"semantic_type\": \"\",\n        \"description\": \"\"\n      }\n    },\n    {\n      \"column\": \"2.5_ci\",\n      \"properties\": {\n        \"dtype\": \"number\",\n        \"std\": null,\n        \"min\": 48.484,\n        \"max\": 48.484,\n        \"num_unique_values\": 1,\n        \"samples\": [\n          48.484\n        ],\n        \"semantic_type\": \"\",\n        \"description\": \"\"\n      }\n    },\n    {\n      \"column\": \"97.5_ci\",\n      \"properties\": {\n        \"dtype\": \"number\",\n        \"std\": null,\n        \"min\": 74.284,\n        \"max\": 74.284,\n        \"num_unique_values\": 1,\n        \"samples\": [\n          74.284\n        ],\n        \"semantic_type\": \"\",\n        \"description\": \"\"\n      }\n    },\n    {\n      \"column\": \"SE\",\n      \"properties\": {\n        \"dtype\": \"number\",\n        \"std\": null,\n        \"min\": 6.582,\n        \"max\": 6.582,\n        \"num_unique_values\": 1,\n        \"samples\": [\n          6.582\n        ],\n        \"semantic_type\": \"\",\n        \"description\": \"\"\n      }\n    },\n    {\n      \"column\": \"DF\",\n      \"properties\": {\n        \"dtype\": \"number\",\n        \"std\": null,\n        \"min\": 0.984,\n        \"max\": 0.984,\n        \"num_unique_values\": 1,\n        \"samples\": [\n          0.984\n        ],\n        \"semantic_type\": \"\",\n        \"description\": \"\"\n      }\n    },\n    {\n      \"column\": \"T-stat\",\n      \"properties\": {\n        \"dtype\": \"number\",\n        \"std\": null,\n        \"min\": 9.327,\n        \"max\": 9.327,\n        \"num_unique_values\": 1,\n        \"samples\": [\n          9.327\n        ],\n        \"semantic_type\": \"\",\n        \"description\": \"\"\n      }\n    },\n    {\n      \"column\": \"P-val\",\n      \"properties\": {\n        \"dtype\": \"number\",\n        \"std\": null,\n        \"min\": 0.07,\n        \"max\": 0.07,\n        \"num_unique_values\": 1,\n        \"samples\": [\n          0.07\n        ],\n        \"semantic_type\": \"\",\n        \"description\": \"\"\n      }\n    },\n    {\n      \"column\": \"Sig\",\n      \"properties\": {\n        \"dtype\": \"string\",\n        \"num_unique_values\": 1,\n        \"samples\": [\n          \".\"\n        ],\n        \"semantic_type\": \"\",\n        \"description\": \"\"\n      }\n    }\n  ]\n}"
            }
          },
          "metadata": {},
          "execution_count": 11
        }
      ],
      "source": [
        "model2 = Lmer('new_pct_dem ~ 1 + (1|state)', data=ca_ma)\n",
        "\n",
        "model2.fit()"
      ]
    },
    {
      "cell_type": "markdown",
      "metadata": {
        "id": "zvCc484KjCZs"
      },
      "source": [
        "### Varying intercept model for all states"
      ]
    },
    {
      "cell_type": "code",
      "execution_count": 12,
      "metadata": {
        "id": "fU41N2NIjCZs",
        "colab": {
          "base_uri": "https://localhost:8080/",
          "height": 440
        },
        "outputId": "049dbd6c-bf86-433c-c9bd-ce2b23715239"
      },
      "outputs": [
        {
          "output_type": "stream",
          "name": "stderr",
          "text": [
            "/usr/local/lib/python3.10/dist-packages/rpy2/robjects/pandas2ri.py:55: FutureWarning: iteritems is deprecated and will be removed in a future version. Use .items instead.\n",
            "  for name, values in obj.iteritems():\n"
          ]
        },
        {
          "output_type": "stream",
          "name": "stdout",
          "text": [
            "Formula: new_pct_dem~1+(1|state)\n",
            "\n",
            "Family: gaussian\t Inference: parametric\n",
            "\n",
            "Number of observations: 3102\t Groups: {'state': 47.0}\n",
            "\n",
            "Log-likelihood: -12510.156 \t AIC: 25020.312\n",
            "\n",
            "Random effects:\n",
            "\n",
            "                 Name      Var     Std\n",
            "state     (Intercept)  134.233  11.586\n",
            "Residual               176.567  13.288\n",
            "\n",
            "No random effect correlations specified\n",
            "\n",
            "Fixed effects:\n",
            "\n"
          ]
        },
        {
          "output_type": "execute_result",
          "data": {
            "text/plain": [
              "             Estimate  2.5_ci  97.5_ci     SE      DF  T-stat  P-val  Sig\n",
              "(Intercept)    37.507  34.129   40.885  1.724  43.861  21.761    0.0  ***"
            ],
            "text/html": [
              "\n",
              "  <div id=\"df-97708be6-5818-4302-a9a9-e6b211dc77d9\" class=\"colab-df-container\">\n",
              "    <div>\n",
              "<style scoped>\n",
              "    .dataframe tbody tr th:only-of-type {\n",
              "        vertical-align: middle;\n",
              "    }\n",
              "\n",
              "    .dataframe tbody tr th {\n",
              "        vertical-align: top;\n",
              "    }\n",
              "\n",
              "    .dataframe thead th {\n",
              "        text-align: right;\n",
              "    }\n",
              "</style>\n",
              "<table border=\"1\" class=\"dataframe\">\n",
              "  <thead>\n",
              "    <tr style=\"text-align: right;\">\n",
              "      <th></th>\n",
              "      <th>Estimate</th>\n",
              "      <th>2.5_ci</th>\n",
              "      <th>97.5_ci</th>\n",
              "      <th>SE</th>\n",
              "      <th>DF</th>\n",
              "      <th>T-stat</th>\n",
              "      <th>P-val</th>\n",
              "      <th>Sig</th>\n",
              "    </tr>\n",
              "  </thead>\n",
              "  <tbody>\n",
              "    <tr>\n",
              "      <th>(Intercept)</th>\n",
              "      <td>37.507</td>\n",
              "      <td>34.129</td>\n",
              "      <td>40.885</td>\n",
              "      <td>1.724</td>\n",
              "      <td>43.861</td>\n",
              "      <td>21.761</td>\n",
              "      <td>0.0</td>\n",
              "      <td>***</td>\n",
              "    </tr>\n",
              "  </tbody>\n",
              "</table>\n",
              "</div>\n",
              "    <div class=\"colab-df-buttons\">\n",
              "\n",
              "  <div class=\"colab-df-container\">\n",
              "    <button class=\"colab-df-convert\" onclick=\"convertToInteractive('df-97708be6-5818-4302-a9a9-e6b211dc77d9')\"\n",
              "            title=\"Convert this dataframe to an interactive table.\"\n",
              "            style=\"display:none;\">\n",
              "\n",
              "  <svg xmlns=\"http://www.w3.org/2000/svg\" height=\"24px\" viewBox=\"0 -960 960 960\">\n",
              "    <path d=\"M120-120v-720h720v720H120Zm60-500h600v-160H180v160Zm220 220h160v-160H400v160Zm0 220h160v-160H400v160ZM180-400h160v-160H180v160Zm440 0h160v-160H620v160ZM180-180h160v-160H180v160Zm440 0h160v-160H620v160Z\"/>\n",
              "  </svg>\n",
              "    </button>\n",
              "\n",
              "  <style>\n",
              "    .colab-df-container {\n",
              "      display:flex;\n",
              "      gap: 12px;\n",
              "    }\n",
              "\n",
              "    .colab-df-convert {\n",
              "      background-color: #E8F0FE;\n",
              "      border: none;\n",
              "      border-radius: 50%;\n",
              "      cursor: pointer;\n",
              "      display: none;\n",
              "      fill: #1967D2;\n",
              "      height: 32px;\n",
              "      padding: 0 0 0 0;\n",
              "      width: 32px;\n",
              "    }\n",
              "\n",
              "    .colab-df-convert:hover {\n",
              "      background-color: #E2EBFA;\n",
              "      box-shadow: 0px 1px 2px rgba(60, 64, 67, 0.3), 0px 1px 3px 1px rgba(60, 64, 67, 0.15);\n",
              "      fill: #174EA6;\n",
              "    }\n",
              "\n",
              "    .colab-df-buttons div {\n",
              "      margin-bottom: 4px;\n",
              "    }\n",
              "\n",
              "    [theme=dark] .colab-df-convert {\n",
              "      background-color: #3B4455;\n",
              "      fill: #D2E3FC;\n",
              "    }\n",
              "\n",
              "    [theme=dark] .colab-df-convert:hover {\n",
              "      background-color: #434B5C;\n",
              "      box-shadow: 0px 1px 3px 1px rgba(0, 0, 0, 0.15);\n",
              "      filter: drop-shadow(0px 1px 2px rgba(0, 0, 0, 0.3));\n",
              "      fill: #FFFFFF;\n",
              "    }\n",
              "  </style>\n",
              "\n",
              "    <script>\n",
              "      const buttonEl =\n",
              "        document.querySelector('#df-97708be6-5818-4302-a9a9-e6b211dc77d9 button.colab-df-convert');\n",
              "      buttonEl.style.display =\n",
              "        google.colab.kernel.accessAllowed ? 'block' : 'none';\n",
              "\n",
              "      async function convertToInteractive(key) {\n",
              "        const element = document.querySelector('#df-97708be6-5818-4302-a9a9-e6b211dc77d9');\n",
              "        const dataTable =\n",
              "          await google.colab.kernel.invokeFunction('convertToInteractive',\n",
              "                                                    [key], {});\n",
              "        if (!dataTable) return;\n",
              "\n",
              "        const docLinkHtml = 'Like what you see? Visit the ' +\n",
              "          '<a target=\"_blank\" href=https://colab.research.google.com/notebooks/data_table.ipynb>data table notebook</a>'\n",
              "          + ' to learn more about interactive tables.';\n",
              "        element.innerHTML = '';\n",
              "        dataTable['output_type'] = 'display_data';\n",
              "        await google.colab.output.renderOutput(dataTable, element);\n",
              "        const docLink = document.createElement('div');\n",
              "        docLink.innerHTML = docLinkHtml;\n",
              "        element.appendChild(docLink);\n",
              "      }\n",
              "    </script>\n",
              "  </div>\n",
              "\n",
              "\n",
              "    </div>\n",
              "  </div>\n"
            ],
            "application/vnd.google.colaboratory.intrinsic+json": {
              "type": "dataframe",
              "summary": "{\n  \"name\": \"model_all_states_1\",\n  \"rows\": 1,\n  \"fields\": [\n    {\n      \"column\": \"Estimate\",\n      \"properties\": {\n        \"dtype\": \"number\",\n        \"std\": null,\n        \"min\": 37.507,\n        \"max\": 37.507,\n        \"num_unique_values\": 1,\n        \"samples\": [\n          37.507\n        ],\n        \"semantic_type\": \"\",\n        \"description\": \"\"\n      }\n    },\n    {\n      \"column\": \"2.5_ci\",\n      \"properties\": {\n        \"dtype\": \"number\",\n        \"std\": null,\n        \"min\": 34.129,\n        \"max\": 34.129,\n        \"num_unique_values\": 1,\n        \"samples\": [\n          34.129\n        ],\n        \"semantic_type\": \"\",\n        \"description\": \"\"\n      }\n    },\n    {\n      \"column\": \"97.5_ci\",\n      \"properties\": {\n        \"dtype\": \"number\",\n        \"std\": null,\n        \"min\": 40.885,\n        \"max\": 40.885,\n        \"num_unique_values\": 1,\n        \"samples\": [\n          40.885\n        ],\n        \"semantic_type\": \"\",\n        \"description\": \"\"\n      }\n    },\n    {\n      \"column\": \"SE\",\n      \"properties\": {\n        \"dtype\": \"number\",\n        \"std\": null,\n        \"min\": 1.724,\n        \"max\": 1.724,\n        \"num_unique_values\": 1,\n        \"samples\": [\n          1.724\n        ],\n        \"semantic_type\": \"\",\n        \"description\": \"\"\n      }\n    },\n    {\n      \"column\": \"DF\",\n      \"properties\": {\n        \"dtype\": \"number\",\n        \"std\": null,\n        \"min\": 43.861,\n        \"max\": 43.861,\n        \"num_unique_values\": 1,\n        \"samples\": [\n          43.861\n        ],\n        \"semantic_type\": \"\",\n        \"description\": \"\"\n      }\n    },\n    {\n      \"column\": \"T-stat\",\n      \"properties\": {\n        \"dtype\": \"number\",\n        \"std\": null,\n        \"min\": 21.761,\n        \"max\": 21.761,\n        \"num_unique_values\": 1,\n        \"samples\": [\n          21.761\n        ],\n        \"semantic_type\": \"\",\n        \"description\": \"\"\n      }\n    },\n    {\n      \"column\": \"P-val\",\n      \"properties\": {\n        \"dtype\": \"number\",\n        \"std\": null,\n        \"min\": 0.0,\n        \"max\": 0.0,\n        \"num_unique_values\": 1,\n        \"samples\": [\n          0.0\n        ],\n        \"semantic_type\": \"\",\n        \"description\": \"\"\n      }\n    },\n    {\n      \"column\": \"Sig\",\n      \"properties\": {\n        \"dtype\": \"string\",\n        \"num_unique_values\": 1,\n        \"samples\": [\n          \"***\"\n        ],\n        \"semantic_type\": \"\",\n        \"description\": \"\"\n      }\n    }\n  ]\n}"
            }
          },
          "metadata": {},
          "execution_count": 12
        }
      ],
      "source": [
        "model_all_states_1 = Lmer('new_pct_dem ~ 1 + (1|state)', data=shp_voting_df)\n",
        "\n",
        "model_all_states_1.fit()"
      ]
    },
    {
      "cell_type": "markdown",
      "metadata": {
        "id": "tul9lT3JjCZs"
      },
      "source": [
        "What is VPC in this case?"
      ]
    },
    {
      "cell_type": "code",
      "execution_count": 12,
      "metadata": {
        "id": "WEUicRcgjCZs"
      },
      "outputs": [],
      "source": []
    },
    {
      "cell_type": "markdown",
      "metadata": {
        "id": "A8mVGIpmjCZs"
      },
      "source": [
        "### Now we add some county-level (individual) variable\n",
        "\n",
        "Here we include `pct_bach` in the model as a fixed effect"
      ]
    },
    {
      "cell_type": "code",
      "execution_count": 13,
      "metadata": {
        "id": "e7ofeV9NjCZs",
        "colab": {
          "base_uri": "https://localhost:8080/",
          "height": 471
        },
        "outputId": "ebac9e62-aebc-43e8-ec0b-4eb8ec96b61d"
      },
      "outputs": [
        {
          "output_type": "stream",
          "name": "stderr",
          "text": [
            "/usr/local/lib/python3.10/dist-packages/rpy2/robjects/pandas2ri.py:55: FutureWarning: iteritems is deprecated and will be removed in a future version. Use .items instead.\n",
            "  for name, values in obj.iteritems():\n"
          ]
        },
        {
          "output_type": "stream",
          "name": "stdout",
          "text": [
            "Formula: new_pct_dem~1+pct_bach+(1|state)\n",
            "\n",
            "Family: gaussian\t Inference: parametric\n",
            "\n",
            "Number of observations: 3102\t Groups: {'state': 47.0}\n",
            "\n",
            "Log-likelihood: -12069.178 \t AIC: 24138.356\n",
            "\n",
            "Random effects:\n",
            "\n",
            "                 Name      Var     Std\n",
            "state     (Intercept)   76.666   8.756\n",
            "Residual               133.186  11.541\n",
            "\n",
            "No random effect correlations specified\n",
            "\n",
            "Fixed effects:\n",
            "\n"
          ]
        },
        {
          "output_type": "execute_result",
          "data": {
            "text/plain": [
              "             Estimate  2.5_ci  97.5_ci     SE        DF  T-stat  P-val  Sig\n",
              "(Intercept)    18.930  16.125   21.735  1.431    62.434  13.226    0.0  ***\n",
              "pct_bach        0.776   0.728    0.823  0.024  3097.039  32.086    0.0  ***"
            ],
            "text/html": [
              "\n",
              "  <div id=\"df-e4ddfa72-88a4-4706-9bd3-2183e0a24c60\" class=\"colab-df-container\">\n",
              "    <div>\n",
              "<style scoped>\n",
              "    .dataframe tbody tr th:only-of-type {\n",
              "        vertical-align: middle;\n",
              "    }\n",
              "\n",
              "    .dataframe tbody tr th {\n",
              "        vertical-align: top;\n",
              "    }\n",
              "\n",
              "    .dataframe thead th {\n",
              "        text-align: right;\n",
              "    }\n",
              "</style>\n",
              "<table border=\"1\" class=\"dataframe\">\n",
              "  <thead>\n",
              "    <tr style=\"text-align: right;\">\n",
              "      <th></th>\n",
              "      <th>Estimate</th>\n",
              "      <th>2.5_ci</th>\n",
              "      <th>97.5_ci</th>\n",
              "      <th>SE</th>\n",
              "      <th>DF</th>\n",
              "      <th>T-stat</th>\n",
              "      <th>P-val</th>\n",
              "      <th>Sig</th>\n",
              "    </tr>\n",
              "  </thead>\n",
              "  <tbody>\n",
              "    <tr>\n",
              "      <th>(Intercept)</th>\n",
              "      <td>18.930</td>\n",
              "      <td>16.125</td>\n",
              "      <td>21.735</td>\n",
              "      <td>1.431</td>\n",
              "      <td>62.434</td>\n",
              "      <td>13.226</td>\n",
              "      <td>0.0</td>\n",
              "      <td>***</td>\n",
              "    </tr>\n",
              "    <tr>\n",
              "      <th>pct_bach</th>\n",
              "      <td>0.776</td>\n",
              "      <td>0.728</td>\n",
              "      <td>0.823</td>\n",
              "      <td>0.024</td>\n",
              "      <td>3097.039</td>\n",
              "      <td>32.086</td>\n",
              "      <td>0.0</td>\n",
              "      <td>***</td>\n",
              "    </tr>\n",
              "  </tbody>\n",
              "</table>\n",
              "</div>\n",
              "    <div class=\"colab-df-buttons\">\n",
              "\n",
              "  <div class=\"colab-df-container\">\n",
              "    <button class=\"colab-df-convert\" onclick=\"convertToInteractive('df-e4ddfa72-88a4-4706-9bd3-2183e0a24c60')\"\n",
              "            title=\"Convert this dataframe to an interactive table.\"\n",
              "            style=\"display:none;\">\n",
              "\n",
              "  <svg xmlns=\"http://www.w3.org/2000/svg\" height=\"24px\" viewBox=\"0 -960 960 960\">\n",
              "    <path d=\"M120-120v-720h720v720H120Zm60-500h600v-160H180v160Zm220 220h160v-160H400v160Zm0 220h160v-160H400v160ZM180-400h160v-160H180v160Zm440 0h160v-160H620v160ZM180-180h160v-160H180v160Zm440 0h160v-160H620v160Z\"/>\n",
              "  </svg>\n",
              "    </button>\n",
              "\n",
              "  <style>\n",
              "    .colab-df-container {\n",
              "      display:flex;\n",
              "      gap: 12px;\n",
              "    }\n",
              "\n",
              "    .colab-df-convert {\n",
              "      background-color: #E8F0FE;\n",
              "      border: none;\n",
              "      border-radius: 50%;\n",
              "      cursor: pointer;\n",
              "      display: none;\n",
              "      fill: #1967D2;\n",
              "      height: 32px;\n",
              "      padding: 0 0 0 0;\n",
              "      width: 32px;\n",
              "    }\n",
              "\n",
              "    .colab-df-convert:hover {\n",
              "      background-color: #E2EBFA;\n",
              "      box-shadow: 0px 1px 2px rgba(60, 64, 67, 0.3), 0px 1px 3px 1px rgba(60, 64, 67, 0.15);\n",
              "      fill: #174EA6;\n",
              "    }\n",
              "\n",
              "    .colab-df-buttons div {\n",
              "      margin-bottom: 4px;\n",
              "    }\n",
              "\n",
              "    [theme=dark] .colab-df-convert {\n",
              "      background-color: #3B4455;\n",
              "      fill: #D2E3FC;\n",
              "    }\n",
              "\n",
              "    [theme=dark] .colab-df-convert:hover {\n",
              "      background-color: #434B5C;\n",
              "      box-shadow: 0px 1px 3px 1px rgba(0, 0, 0, 0.15);\n",
              "      filter: drop-shadow(0px 1px 2px rgba(0, 0, 0, 0.3));\n",
              "      fill: #FFFFFF;\n",
              "    }\n",
              "  </style>\n",
              "\n",
              "    <script>\n",
              "      const buttonEl =\n",
              "        document.querySelector('#df-e4ddfa72-88a4-4706-9bd3-2183e0a24c60 button.colab-df-convert');\n",
              "      buttonEl.style.display =\n",
              "        google.colab.kernel.accessAllowed ? 'block' : 'none';\n",
              "\n",
              "      async function convertToInteractive(key) {\n",
              "        const element = document.querySelector('#df-e4ddfa72-88a4-4706-9bd3-2183e0a24c60');\n",
              "        const dataTable =\n",
              "          await google.colab.kernel.invokeFunction('convertToInteractive',\n",
              "                                                    [key], {});\n",
              "        if (!dataTable) return;\n",
              "\n",
              "        const docLinkHtml = 'Like what you see? Visit the ' +\n",
              "          '<a target=\"_blank\" href=https://colab.research.google.com/notebooks/data_table.ipynb>data table notebook</a>'\n",
              "          + ' to learn more about interactive tables.';\n",
              "        element.innerHTML = '';\n",
              "        dataTable['output_type'] = 'display_data';\n",
              "        await google.colab.output.renderOutput(dataTable, element);\n",
              "        const docLink = document.createElement('div');\n",
              "        docLink.innerHTML = docLinkHtml;\n",
              "        element.appendChild(docLink);\n",
              "      }\n",
              "    </script>\n",
              "  </div>\n",
              "\n",
              "\n",
              "<div id=\"df-7036cf72-94b2-42cc-824f-24f6cc84fb19\">\n",
              "  <button class=\"colab-df-quickchart\" onclick=\"quickchart('df-7036cf72-94b2-42cc-824f-24f6cc84fb19')\"\n",
              "            title=\"Suggest charts\"\n",
              "            style=\"display:none;\">\n",
              "\n",
              "<svg xmlns=\"http://www.w3.org/2000/svg\" height=\"24px\"viewBox=\"0 0 24 24\"\n",
              "     width=\"24px\">\n",
              "    <g>\n",
              "        <path d=\"M19 3H5c-1.1 0-2 .9-2 2v14c0 1.1.9 2 2 2h14c1.1 0 2-.9 2-2V5c0-1.1-.9-2-2-2zM9 17H7v-7h2v7zm4 0h-2V7h2v10zm4 0h-2v-4h2v4z\"/>\n",
              "    </g>\n",
              "</svg>\n",
              "  </button>\n",
              "\n",
              "<style>\n",
              "  .colab-df-quickchart {\n",
              "      --bg-color: #E8F0FE;\n",
              "      --fill-color: #1967D2;\n",
              "      --hover-bg-color: #E2EBFA;\n",
              "      --hover-fill-color: #174EA6;\n",
              "      --disabled-fill-color: #AAA;\n",
              "      --disabled-bg-color: #DDD;\n",
              "  }\n",
              "\n",
              "  [theme=dark] .colab-df-quickchart {\n",
              "      --bg-color: #3B4455;\n",
              "      --fill-color: #D2E3FC;\n",
              "      --hover-bg-color: #434B5C;\n",
              "      --hover-fill-color: #FFFFFF;\n",
              "      --disabled-bg-color: #3B4455;\n",
              "      --disabled-fill-color: #666;\n",
              "  }\n",
              "\n",
              "  .colab-df-quickchart {\n",
              "    background-color: var(--bg-color);\n",
              "    border: none;\n",
              "    border-radius: 50%;\n",
              "    cursor: pointer;\n",
              "    display: none;\n",
              "    fill: var(--fill-color);\n",
              "    height: 32px;\n",
              "    padding: 0;\n",
              "    width: 32px;\n",
              "  }\n",
              "\n",
              "  .colab-df-quickchart:hover {\n",
              "    background-color: var(--hover-bg-color);\n",
              "    box-shadow: 0 1px 2px rgba(60, 64, 67, 0.3), 0 1px 3px 1px rgba(60, 64, 67, 0.15);\n",
              "    fill: var(--button-hover-fill-color);\n",
              "  }\n",
              "\n",
              "  .colab-df-quickchart-complete:disabled,\n",
              "  .colab-df-quickchart-complete:disabled:hover {\n",
              "    background-color: var(--disabled-bg-color);\n",
              "    fill: var(--disabled-fill-color);\n",
              "    box-shadow: none;\n",
              "  }\n",
              "\n",
              "  .colab-df-spinner {\n",
              "    border: 2px solid var(--fill-color);\n",
              "    border-color: transparent;\n",
              "    border-bottom-color: var(--fill-color);\n",
              "    animation:\n",
              "      spin 1s steps(1) infinite;\n",
              "  }\n",
              "\n",
              "  @keyframes spin {\n",
              "    0% {\n",
              "      border-color: transparent;\n",
              "      border-bottom-color: var(--fill-color);\n",
              "      border-left-color: var(--fill-color);\n",
              "    }\n",
              "    20% {\n",
              "      border-color: transparent;\n",
              "      border-left-color: var(--fill-color);\n",
              "      border-top-color: var(--fill-color);\n",
              "    }\n",
              "    30% {\n",
              "      border-color: transparent;\n",
              "      border-left-color: var(--fill-color);\n",
              "      border-top-color: var(--fill-color);\n",
              "      border-right-color: var(--fill-color);\n",
              "    }\n",
              "    40% {\n",
              "      border-color: transparent;\n",
              "      border-right-color: var(--fill-color);\n",
              "      border-top-color: var(--fill-color);\n",
              "    }\n",
              "    60% {\n",
              "      border-color: transparent;\n",
              "      border-right-color: var(--fill-color);\n",
              "    }\n",
              "    80% {\n",
              "      border-color: transparent;\n",
              "      border-right-color: var(--fill-color);\n",
              "      border-bottom-color: var(--fill-color);\n",
              "    }\n",
              "    90% {\n",
              "      border-color: transparent;\n",
              "      border-bottom-color: var(--fill-color);\n",
              "    }\n",
              "  }\n",
              "</style>\n",
              "\n",
              "  <script>\n",
              "    async function quickchart(key) {\n",
              "      const quickchartButtonEl =\n",
              "        document.querySelector('#' + key + ' button');\n",
              "      quickchartButtonEl.disabled = true;  // To prevent multiple clicks.\n",
              "      quickchartButtonEl.classList.add('colab-df-spinner');\n",
              "      try {\n",
              "        const charts = await google.colab.kernel.invokeFunction(\n",
              "            'suggestCharts', [key], {});\n",
              "      } catch (error) {\n",
              "        console.error('Error during call to suggestCharts:', error);\n",
              "      }\n",
              "      quickchartButtonEl.classList.remove('colab-df-spinner');\n",
              "      quickchartButtonEl.classList.add('colab-df-quickchart-complete');\n",
              "    }\n",
              "    (() => {\n",
              "      let quickchartButtonEl =\n",
              "        document.querySelector('#df-7036cf72-94b2-42cc-824f-24f6cc84fb19 button');\n",
              "      quickchartButtonEl.style.display =\n",
              "        google.colab.kernel.accessAllowed ? 'block' : 'none';\n",
              "    })();\n",
              "  </script>\n",
              "</div>\n",
              "\n",
              "    </div>\n",
              "  </div>\n"
            ],
            "application/vnd.google.colaboratory.intrinsic+json": {
              "type": "dataframe",
              "summary": "{\n  \"name\": \"model_all_states_2\",\n  \"rows\": 2,\n  \"fields\": [\n    {\n      \"column\": \"Estimate\",\n      \"properties\": {\n        \"dtype\": \"number\",\n        \"std\": 12.836816505660584,\n        \"min\": 0.776,\n        \"max\": 18.93,\n        \"num_unique_values\": 2,\n        \"samples\": [\n          0.776,\n          18.93\n        ],\n        \"semantic_type\": \"\",\n        \"description\": \"\"\n      }\n    },\n    {\n      \"column\": \"2.5_ci\",\n      \"properties\": {\n        \"dtype\": \"number\",\n        \"std\": 10.887323109929273,\n        \"min\": 0.728,\n        \"max\": 16.125,\n        \"num_unique_values\": 2,\n        \"samples\": [\n          0.728,\n          16.125\n        ],\n        \"semantic_type\": \"\",\n        \"description\": \"\"\n      }\n    },\n    {\n      \"column\": \"97.5_ci\",\n      \"properties\": {\n        \"dtype\": \"number\",\n        \"std\": 14.787017008173082,\n        \"min\": 0.823,\n        \"max\": 21.735,\n        \"num_unique_values\": 2,\n        \"samples\": [\n          0.823,\n          21.735\n        ],\n        \"semantic_type\": \"\",\n        \"description\": \"\"\n      }\n    },\n    {\n      \"column\": \"SE\",\n      \"properties\": {\n        \"dtype\": \"number\",\n        \"std\": 0.9948992411294724,\n        \"min\": 0.024,\n        \"max\": 1.431,\n        \"num_unique_values\": 2,\n        \"samples\": [\n          0.024,\n          1.431\n        ],\n        \"semantic_type\": \"\",\n        \"description\": \"\"\n      }\n    },\n    {\n      \"column\": \"DF\",\n      \"properties\": {\n        \"dtype\": \"number\",\n        \"std\": 2145.789773722603,\n        \"min\": 62.434,\n        \"max\": 3097.039,\n        \"num_unique_values\": 2,\n        \"samples\": [\n          3097.039,\n          62.434\n        ],\n        \"semantic_type\": \"\",\n        \"description\": \"\"\n      }\n    },\n    {\n      \"column\": \"T-stat\",\n      \"properties\": {\n        \"dtype\": \"number\",\n        \"std\": 13.336033893178286,\n        \"min\": 13.226,\n        \"max\": 32.086,\n        \"num_unique_values\": 2,\n        \"samples\": [\n          32.086,\n          13.226\n        ],\n        \"semantic_type\": \"\",\n        \"description\": \"\"\n      }\n    },\n    {\n      \"column\": \"P-val\",\n      \"properties\": {\n        \"dtype\": \"number\",\n        \"std\": 0.0,\n        \"min\": 0.0,\n        \"max\": 0.0,\n        \"num_unique_values\": 1,\n        \"samples\": [\n          0.0\n        ],\n        \"semantic_type\": \"\",\n        \"description\": \"\"\n      }\n    },\n    {\n      \"column\": \"Sig\",\n      \"properties\": {\n        \"dtype\": \"string\",\n        \"num_unique_values\": 1,\n        \"samples\": [\n          \"***\"\n        ],\n        \"semantic_type\": \"\",\n        \"description\": \"\"\n      }\n    }\n  ]\n}"
            }
          },
          "metadata": {},
          "execution_count": 13
        }
      ],
      "source": [
        "model_all_states_2 = Lmer('new_pct_dem ~ 1 + pct_bach + (1|state)', data=shp_voting_df)\n",
        "\n",
        "model_all_states_2.fit()"
      ]
    },
    {
      "cell_type": "markdown",
      "metadata": {
        "id": "IakzVFYljCZt"
      },
      "source": [
        "Model AIC decreases as adding this `pct_bach` variable. The interpretation to this variable is: After accounting for the state-level differences, the `pct_bach` has an estimate of 0.776 with a low p-value. Nationally, increasing 1% in `pct_bach` will result in increase `0.776%` people voted for the DEM, while keep other factors constant."
      ]
    },
    {
      "cell_type": "code",
      "execution_count": 13,
      "metadata": {
        "id": "-f7j5W99jCZt"
      },
      "outputs": [],
      "source": []
    },
    {
      "cell_type": "markdown",
      "metadata": {
        "id": "5gkaoepUjCZt"
      },
      "source": [
        "### Now we add a state-level (group) variable\n",
        "\n",
        "Here we include `is_dem_gov` in the model as a fixed effect"
      ]
    },
    {
      "cell_type": "code",
      "execution_count": 14,
      "metadata": {
        "id": "o1vCWM0mjCZt",
        "colab": {
          "base_uri": "https://localhost:8080/",
          "height": 502
        },
        "outputId": "0aedacc3-e80c-4ce3-b8c8-9cd529a8b87d"
      },
      "outputs": [
        {
          "output_type": "stream",
          "name": "stderr",
          "text": [
            "/usr/local/lib/python3.10/dist-packages/rpy2/robjects/pandas2ri.py:55: FutureWarning: iteritems is deprecated and will be removed in a future version. Use .items instead.\n",
            "  for name, values in obj.iteritems():\n"
          ]
        },
        {
          "output_type": "stream",
          "name": "stdout",
          "text": [
            "Formula: new_pct_dem~1+pct_bach+is_dem_gov+(1|state)\n",
            "\n",
            "Family: gaussian\t Inference: parametric\n",
            "\n",
            "Number of observations: 3102\t Groups: {'state': 47.0}\n",
            "\n",
            "Log-likelihood: -12065.543 \t AIC: 24131.087\n",
            "\n",
            "Random effects:\n",
            "\n",
            "                 Name      Var     Std\n",
            "state     (Intercept)   72.165   8.495\n",
            "Residual               133.190  11.541\n",
            "\n",
            "No random effect correlations specified\n",
            "\n",
            "Fixed effects:\n",
            "\n"
          ]
        },
        {
          "output_type": "execute_result",
          "data": {
            "text/plain": [
              "                Estimate  2.5_ci  97.5_ci     SE        DF  T-stat  P-val  Sig\n",
              "(Intercept)       16.666  13.087   20.244  1.826    51.528   9.127  0.000  ***\n",
              "pct_bach           0.775   0.728    0.823  0.024  3096.963  32.081  0.000  ***\n",
              "is_dem_govTRUE     4.864  -0.138    9.867  2.552    43.097   1.906  0.063    ."
            ],
            "text/html": [
              "\n",
              "  <div id=\"df-d33e4d42-4e61-410a-88c8-63246894b86e\" class=\"colab-df-container\">\n",
              "    <div>\n",
              "<style scoped>\n",
              "    .dataframe tbody tr th:only-of-type {\n",
              "        vertical-align: middle;\n",
              "    }\n",
              "\n",
              "    .dataframe tbody tr th {\n",
              "        vertical-align: top;\n",
              "    }\n",
              "\n",
              "    .dataframe thead th {\n",
              "        text-align: right;\n",
              "    }\n",
              "</style>\n",
              "<table border=\"1\" class=\"dataframe\">\n",
              "  <thead>\n",
              "    <tr style=\"text-align: right;\">\n",
              "      <th></th>\n",
              "      <th>Estimate</th>\n",
              "      <th>2.5_ci</th>\n",
              "      <th>97.5_ci</th>\n",
              "      <th>SE</th>\n",
              "      <th>DF</th>\n",
              "      <th>T-stat</th>\n",
              "      <th>P-val</th>\n",
              "      <th>Sig</th>\n",
              "    </tr>\n",
              "  </thead>\n",
              "  <tbody>\n",
              "    <tr>\n",
              "      <th>(Intercept)</th>\n",
              "      <td>16.666</td>\n",
              "      <td>13.087</td>\n",
              "      <td>20.244</td>\n",
              "      <td>1.826</td>\n",
              "      <td>51.528</td>\n",
              "      <td>9.127</td>\n",
              "      <td>0.000</td>\n",
              "      <td>***</td>\n",
              "    </tr>\n",
              "    <tr>\n",
              "      <th>pct_bach</th>\n",
              "      <td>0.775</td>\n",
              "      <td>0.728</td>\n",
              "      <td>0.823</td>\n",
              "      <td>0.024</td>\n",
              "      <td>3096.963</td>\n",
              "      <td>32.081</td>\n",
              "      <td>0.000</td>\n",
              "      <td>***</td>\n",
              "    </tr>\n",
              "    <tr>\n",
              "      <th>is_dem_govTRUE</th>\n",
              "      <td>4.864</td>\n",
              "      <td>-0.138</td>\n",
              "      <td>9.867</td>\n",
              "      <td>2.552</td>\n",
              "      <td>43.097</td>\n",
              "      <td>1.906</td>\n",
              "      <td>0.063</td>\n",
              "      <td>.</td>\n",
              "    </tr>\n",
              "  </tbody>\n",
              "</table>\n",
              "</div>\n",
              "    <div class=\"colab-df-buttons\">\n",
              "\n",
              "  <div class=\"colab-df-container\">\n",
              "    <button class=\"colab-df-convert\" onclick=\"convertToInteractive('df-d33e4d42-4e61-410a-88c8-63246894b86e')\"\n",
              "            title=\"Convert this dataframe to an interactive table.\"\n",
              "            style=\"display:none;\">\n",
              "\n",
              "  <svg xmlns=\"http://www.w3.org/2000/svg\" height=\"24px\" viewBox=\"0 -960 960 960\">\n",
              "    <path d=\"M120-120v-720h720v720H120Zm60-500h600v-160H180v160Zm220 220h160v-160H400v160Zm0 220h160v-160H400v160ZM180-400h160v-160H180v160Zm440 0h160v-160H620v160ZM180-180h160v-160H180v160Zm440 0h160v-160H620v160Z\"/>\n",
              "  </svg>\n",
              "    </button>\n",
              "\n",
              "  <style>\n",
              "    .colab-df-container {\n",
              "      display:flex;\n",
              "      gap: 12px;\n",
              "    }\n",
              "\n",
              "    .colab-df-convert {\n",
              "      background-color: #E8F0FE;\n",
              "      border: none;\n",
              "      border-radius: 50%;\n",
              "      cursor: pointer;\n",
              "      display: none;\n",
              "      fill: #1967D2;\n",
              "      height: 32px;\n",
              "      padding: 0 0 0 0;\n",
              "      width: 32px;\n",
              "    }\n",
              "\n",
              "    .colab-df-convert:hover {\n",
              "      background-color: #E2EBFA;\n",
              "      box-shadow: 0px 1px 2px rgba(60, 64, 67, 0.3), 0px 1px 3px 1px rgba(60, 64, 67, 0.15);\n",
              "      fill: #174EA6;\n",
              "    }\n",
              "\n",
              "    .colab-df-buttons div {\n",
              "      margin-bottom: 4px;\n",
              "    }\n",
              "\n",
              "    [theme=dark] .colab-df-convert {\n",
              "      background-color: #3B4455;\n",
              "      fill: #D2E3FC;\n",
              "    }\n",
              "\n",
              "    [theme=dark] .colab-df-convert:hover {\n",
              "      background-color: #434B5C;\n",
              "      box-shadow: 0px 1px 3px 1px rgba(0, 0, 0, 0.15);\n",
              "      filter: drop-shadow(0px 1px 2px rgba(0, 0, 0, 0.3));\n",
              "      fill: #FFFFFF;\n",
              "    }\n",
              "  </style>\n",
              "\n",
              "    <script>\n",
              "      const buttonEl =\n",
              "        document.querySelector('#df-d33e4d42-4e61-410a-88c8-63246894b86e button.colab-df-convert');\n",
              "      buttonEl.style.display =\n",
              "        google.colab.kernel.accessAllowed ? 'block' : 'none';\n",
              "\n",
              "      async function convertToInteractive(key) {\n",
              "        const element = document.querySelector('#df-d33e4d42-4e61-410a-88c8-63246894b86e');\n",
              "        const dataTable =\n",
              "          await google.colab.kernel.invokeFunction('convertToInteractive',\n",
              "                                                    [key], {});\n",
              "        if (!dataTable) return;\n",
              "\n",
              "        const docLinkHtml = 'Like what you see? Visit the ' +\n",
              "          '<a target=\"_blank\" href=https://colab.research.google.com/notebooks/data_table.ipynb>data table notebook</a>'\n",
              "          + ' to learn more about interactive tables.';\n",
              "        element.innerHTML = '';\n",
              "        dataTable['output_type'] = 'display_data';\n",
              "        await google.colab.output.renderOutput(dataTable, element);\n",
              "        const docLink = document.createElement('div');\n",
              "        docLink.innerHTML = docLinkHtml;\n",
              "        element.appendChild(docLink);\n",
              "      }\n",
              "    </script>\n",
              "  </div>\n",
              "\n",
              "\n",
              "<div id=\"df-d5b22fe2-cb54-45ba-a9d0-91c10750a48e\">\n",
              "  <button class=\"colab-df-quickchart\" onclick=\"quickchart('df-d5b22fe2-cb54-45ba-a9d0-91c10750a48e')\"\n",
              "            title=\"Suggest charts\"\n",
              "            style=\"display:none;\">\n",
              "\n",
              "<svg xmlns=\"http://www.w3.org/2000/svg\" height=\"24px\"viewBox=\"0 0 24 24\"\n",
              "     width=\"24px\">\n",
              "    <g>\n",
              "        <path d=\"M19 3H5c-1.1 0-2 .9-2 2v14c0 1.1.9 2 2 2h14c1.1 0 2-.9 2-2V5c0-1.1-.9-2-2-2zM9 17H7v-7h2v7zm4 0h-2V7h2v10zm4 0h-2v-4h2v4z\"/>\n",
              "    </g>\n",
              "</svg>\n",
              "  </button>\n",
              "\n",
              "<style>\n",
              "  .colab-df-quickchart {\n",
              "      --bg-color: #E8F0FE;\n",
              "      --fill-color: #1967D2;\n",
              "      --hover-bg-color: #E2EBFA;\n",
              "      --hover-fill-color: #174EA6;\n",
              "      --disabled-fill-color: #AAA;\n",
              "      --disabled-bg-color: #DDD;\n",
              "  }\n",
              "\n",
              "  [theme=dark] .colab-df-quickchart {\n",
              "      --bg-color: #3B4455;\n",
              "      --fill-color: #D2E3FC;\n",
              "      --hover-bg-color: #434B5C;\n",
              "      --hover-fill-color: #FFFFFF;\n",
              "      --disabled-bg-color: #3B4455;\n",
              "      --disabled-fill-color: #666;\n",
              "  }\n",
              "\n",
              "  .colab-df-quickchart {\n",
              "    background-color: var(--bg-color);\n",
              "    border: none;\n",
              "    border-radius: 50%;\n",
              "    cursor: pointer;\n",
              "    display: none;\n",
              "    fill: var(--fill-color);\n",
              "    height: 32px;\n",
              "    padding: 0;\n",
              "    width: 32px;\n",
              "  }\n",
              "\n",
              "  .colab-df-quickchart:hover {\n",
              "    background-color: var(--hover-bg-color);\n",
              "    box-shadow: 0 1px 2px rgba(60, 64, 67, 0.3), 0 1px 3px 1px rgba(60, 64, 67, 0.15);\n",
              "    fill: var(--button-hover-fill-color);\n",
              "  }\n",
              "\n",
              "  .colab-df-quickchart-complete:disabled,\n",
              "  .colab-df-quickchart-complete:disabled:hover {\n",
              "    background-color: var(--disabled-bg-color);\n",
              "    fill: var(--disabled-fill-color);\n",
              "    box-shadow: none;\n",
              "  }\n",
              "\n",
              "  .colab-df-spinner {\n",
              "    border: 2px solid var(--fill-color);\n",
              "    border-color: transparent;\n",
              "    border-bottom-color: var(--fill-color);\n",
              "    animation:\n",
              "      spin 1s steps(1) infinite;\n",
              "  }\n",
              "\n",
              "  @keyframes spin {\n",
              "    0% {\n",
              "      border-color: transparent;\n",
              "      border-bottom-color: var(--fill-color);\n",
              "      border-left-color: var(--fill-color);\n",
              "    }\n",
              "    20% {\n",
              "      border-color: transparent;\n",
              "      border-left-color: var(--fill-color);\n",
              "      border-top-color: var(--fill-color);\n",
              "    }\n",
              "    30% {\n",
              "      border-color: transparent;\n",
              "      border-left-color: var(--fill-color);\n",
              "      border-top-color: var(--fill-color);\n",
              "      border-right-color: var(--fill-color);\n",
              "    }\n",
              "    40% {\n",
              "      border-color: transparent;\n",
              "      border-right-color: var(--fill-color);\n",
              "      border-top-color: var(--fill-color);\n",
              "    }\n",
              "    60% {\n",
              "      border-color: transparent;\n",
              "      border-right-color: var(--fill-color);\n",
              "    }\n",
              "    80% {\n",
              "      border-color: transparent;\n",
              "      border-right-color: var(--fill-color);\n",
              "      border-bottom-color: var(--fill-color);\n",
              "    }\n",
              "    90% {\n",
              "      border-color: transparent;\n",
              "      border-bottom-color: var(--fill-color);\n",
              "    }\n",
              "  }\n",
              "</style>\n",
              "\n",
              "  <script>\n",
              "    async function quickchart(key) {\n",
              "      const quickchartButtonEl =\n",
              "        document.querySelector('#' + key + ' button');\n",
              "      quickchartButtonEl.disabled = true;  // To prevent multiple clicks.\n",
              "      quickchartButtonEl.classList.add('colab-df-spinner');\n",
              "      try {\n",
              "        const charts = await google.colab.kernel.invokeFunction(\n",
              "            'suggestCharts', [key], {});\n",
              "      } catch (error) {\n",
              "        console.error('Error during call to suggestCharts:', error);\n",
              "      }\n",
              "      quickchartButtonEl.classList.remove('colab-df-spinner');\n",
              "      quickchartButtonEl.classList.add('colab-df-quickchart-complete');\n",
              "    }\n",
              "    (() => {\n",
              "      let quickchartButtonEl =\n",
              "        document.querySelector('#df-d5b22fe2-cb54-45ba-a9d0-91c10750a48e button');\n",
              "      quickchartButtonEl.style.display =\n",
              "        google.colab.kernel.accessAllowed ? 'block' : 'none';\n",
              "    })();\n",
              "  </script>\n",
              "</div>\n",
              "\n",
              "    </div>\n",
              "  </div>\n"
            ],
            "application/vnd.google.colaboratory.intrinsic+json": {
              "type": "dataframe",
              "summary": "{\n  \"name\": \"model_all_states_3\",\n  \"rows\": 3,\n  \"fields\": [\n    {\n      \"column\": \"Estimate\",\n      \"properties\": {\n        \"dtype\": \"number\",\n        \"std\": 8.25157566771341,\n        \"min\": 0.775,\n        \"max\": 16.666,\n        \"num_unique_values\": 3,\n        \"samples\": [\n          16.666,\n          0.775,\n          4.864\n        ],\n        \"semantic_type\": \"\",\n        \"description\": \"\"\n      }\n    },\n    {\n      \"column\": \"2.5_ci\",\n      \"properties\": {\n        \"dtype\": \"number\",\n        \"std\": 7.398146862559569,\n        \"min\": -0.138,\n        \"max\": 13.087,\n        \"num_unique_values\": 3,\n        \"samples\": [\n          13.087,\n          0.728,\n          -0.138\n        ],\n        \"semantic_type\": \"\",\n        \"description\": \"\"\n      }\n    },\n    {\n      \"column\": \"97.5_ci\",\n      \"properties\": {\n        \"dtype\": \"number\",\n        \"std\": 9.718121440552867,\n        \"min\": 0.823,\n        \"max\": 20.244,\n        \"num_unique_values\": 3,\n        \"samples\": [\n          20.244,\n          0.823,\n          9.867\n        ],\n        \"semantic_type\": \"\",\n        \"description\": \"\"\n      }\n    },\n    {\n      \"column\": \"SE\",\n      \"properties\": {\n        \"dtype\": \"number\",\n        \"std\": 1.3016056750542129,\n        \"min\": 0.024,\n        \"max\": 2.552,\n        \"num_unique_values\": 3,\n        \"samples\": [\n          1.826,\n          0.024,\n          2.552\n        ],\n        \"semantic_type\": \"\",\n        \"description\": \"\"\n      }\n    },\n    {\n      \"column\": \"DF\",\n      \"properties\": {\n        \"dtype\": \"number\",\n        \"std\": 1760.7215834680774,\n        \"min\": 43.097,\n        \"max\": 3096.963,\n        \"num_unique_values\": 3,\n        \"samples\": [\n          51.528,\n          3096.963,\n          43.097\n        ],\n        \"semantic_type\": \"\",\n        \"description\": \"\"\n      }\n    },\n    {\n      \"column\": \"T-stat\",\n      \"properties\": {\n        \"dtype\": \"number\",\n        \"std\": 15.75626638304054,\n        \"min\": 1.906,\n        \"max\": 32.081,\n        \"num_unique_values\": 3,\n        \"samples\": [\n          9.127,\n          32.081,\n          1.906\n        ],\n        \"semantic_type\": \"\",\n        \"description\": \"\"\n      }\n    },\n    {\n      \"column\": \"P-val\",\n      \"properties\": {\n        \"dtype\": \"number\",\n        \"std\": 0.036373066958946425,\n        \"min\": 0.0,\n        \"max\": 0.063,\n        \"num_unique_values\": 2,\n        \"samples\": [\n          0.063,\n          0.0\n        ],\n        \"semantic_type\": \"\",\n        \"description\": \"\"\n      }\n    },\n    {\n      \"column\": \"Sig\",\n      \"properties\": {\n        \"dtype\": \"string\",\n        \"num_unique_values\": 2,\n        \"samples\": [\n          \".\",\n          \"***\"\n        ],\n        \"semantic_type\": \"\",\n        \"description\": \"\"\n      }\n    }\n  ]\n}"
            }
          },
          "metadata": {},
          "execution_count": 14
        }
      ],
      "source": [
        "model_all_states_3 = Lmer('new_pct_dem ~ 1 + pct_bach + is_dem_gov + (1|state)', data=shp_voting_df)\n",
        "\n",
        "model_all_states_3.fit()"
      ]
    },
    {
      "cell_type": "markdown",
      "metadata": {
        "id": "ScmZYsZJjCZt"
      },
      "source": [
        "After accounting for the state-level differences, the `is_dem_gov` has an estimate of 4.864 with a high p-value (0.063 > 0.05). This is saying that nationally, if a state has a democratic governer will contribute to 4.8% percent more vote into DEM, however, this effect is not statistically significant at 0.05 level given the current data and model."
      ]
    },
    {
      "cell_type": "code",
      "execution_count": 14,
      "metadata": {
        "id": "pJUFlFfNjCZt"
      },
      "outputs": [],
      "source": []
    },
    {
      "cell_type": "code",
      "execution_count": 15,
      "metadata": {
        "id": "DXve4qsrjCZt",
        "colab": {
          "base_uri": "https://localhost:8080/"
        },
        "outputId": "4d0de1c7-8084-4fc8-84ec-b20fd25cc591"
      },
      "outputs": [
        {
          "output_type": "execute_result",
          "data": {
            "text/plain": [
              "Index(['GEOID', 'STATEFP', 'NAME_x', 'county_id', 'Unnamed: 0', 'state',\n",
              "       'county', 'NAME_y', 'proj_X', 'proj_Y', 'total_pop', 'new_pct_dem',\n",
              "       'sex_ratio', 'pct_black', 'pct_hisp', 'pct_bach', 'median_income',\n",
              "       'pct_65_over', 'pct_age_18_29', 'gini', 'pct_manuf', 'ln_pop_den',\n",
              "       'pct_3rd_party', 'turn_out', 'pct_fb', 'pct_uninsured', 'stname', ' st',\n",
              "       ' stusps', 'state_code', 'party', 'is_dem_gov'],\n",
              "      dtype='object')"
            ]
          },
          "metadata": {},
          "execution_count": 15
        }
      ],
      "source": [
        "shp_voting_df.columns"
      ]
    },
    {
      "cell_type": "code",
      "execution_count": 15,
      "metadata": {
        "id": "hCEH_IK2jCZt"
      },
      "outputs": [],
      "source": []
    }
  ],
  "metadata": {
    "kernelspec": {
      "display_name": "Python 3 (ipykernel)",
      "language": "python",
      "name": "python3"
    },
    "language_info": {
      "codemirror_mode": {
        "name": "ipython",
        "version": 3
      },
      "file_extension": ".py",
      "mimetype": "text/x-python",
      "name": "python",
      "nbconvert_exporter": "python",
      "pygments_lexer": "ipython3",
      "version": "3.11.5"
    },
    "colab": {
      "provenance": [],
      "include_colab_link": true
    }
  },
  "nbformat": 4,
  "nbformat_minor": 0
}