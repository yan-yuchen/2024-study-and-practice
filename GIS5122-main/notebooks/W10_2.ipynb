{
 "cells": [
  {
   "cell_type": "markdown",
   "metadata": {},
   "source": [
    "### 多级模型 Multi-level models（可变截距）\n",
    "***\n",
    "这是一个如何使用 python 和 `pymer4` 包拟合 MLM 模型的示例。Pymer4 是 R 中著名的 `lme4` 包的 python 版本，其文档可在以下位置找到：https://eshinjolly.com/pymer4/\n"
   ]
  },
  {
   "cell_type": "markdown",
   "metadata": {},
   "source": [
    "#### 安装\n",
    "\n",
    "安装 `pymer4` 很麻烦。\n",
    "\n",
    "`pymer4` 需要 R 环境。如果您的计算机没有 R，请从 [这里](https://www.r-project.org) 安装一个。安装 R 后，您还需要安装 `lme4` 和 `lmerTest`。打开您的 R 并将这两个包安装为\n",
    "\n",
    "`install.packages(\"lme4\")`\n",
    "\n",
    "`install.packages(\"lmerTest\")`\n",
    "\n",
    "然后返回 python 安装 `pymer4`，方法为\n",
    "`pip install pymer4`"
   ]
  },
  {
   "cell_type": "code",
   "execution_count": 1,
   "metadata": {},
   "outputs": [],
   "source": [
    "#pip install pymer4"
   ]
  },
  {
   "cell_type": "code",
   "execution_count": 2,
   "metadata": {},
   "outputs": [],
   "source": [
    "import warnings\n",
    "\n",
    "import numpy as np\n",
    "import matplotlib.pyplot as plt\n",
    "import geopandas as gpd\n",
    "import pandas as pd\n",
    "import libpysal as ps\n",
    "from libpysal.weights import Queen\n",
    "from esda.moran import Moran"
   ]
  },
  {
   "cell_type": "markdown",
   "metadata": {},
   "source": [
    "我们将使用相同的投票数据来演示 MLM。数据略有不同，因为它有一个额外的列，表示县所属州的州长。\n",
    "\n",
    "加载投票数据集"
   ]
  },
  {
   "cell_type": "code",
   "execution_count": 3,
   "metadata": {},
   "outputs": [],
   "source": [
    "voting = pd.read_csv('https://raw.github.com/Ziqi-Li/gis5122/master/data/voting_2020_with_gov.csv')\n",
    "\n",
    "#voting[['median_income']] = voting[['median_income']]/10000"
   ]
  },
  {
   "cell_type": "code",
   "execution_count": 4,
   "metadata": {},
   "outputs": [],
   "source": [
    "voting['is_dem_gov']= (voting.party == 'democrat')"
   ]
  },
  {
   "cell_type": "code",
   "execution_count": 5,
   "metadata": {},
   "outputs": [],
   "source": [
    "shp = gpd.read_file(\"https://raw.github.com/Ziqi-Li/gis5122/master/data/us_counties.geojson\")"
   ]
  },
  {
   "cell_type": "code",
   "execution_count": 6,
   "metadata": {},
   "outputs": [],
   "source": [
    "#Merge the shapefile with the voting data by the common county_id\n",
    "shp_voting = shp.merge(voting, on =\"county_id\")\n",
    "\n",
    "shp_voting_df = shp_voting.drop(columns='geometry')\n",
    "\n",
    "#Dissolve the counties to obtain boundary of states, used for mapping\n",
    "state = shp_voting.dissolve(by='STATEFP').geometry.boundary"
   ]
  },
  {
   "cell_type": "markdown",
   "metadata": {},
   "source": [
    "### 拟合 MLM 模型（根据州改变截距）"
   ]
  },
  {
   "cell_type": "markdown",
   "metadata": {},
   "source": [
    "让我们首先看一下以下两两比较：\n",
    "- 加利福尼亚州与马萨诸塞州\n",
    "- 加利福尼亚州与德克萨斯州\n",
    "请注意，州 FIPS 代码为：\n",
    "CA:06;MA:25;TX:48"
   ]
  },
  {
   "cell_type": "code",
   "execution_count": 7,
   "metadata": {},
   "outputs": [],
   "source": [
    "ca_ma = shp_voting[shp_voting['state'].isin([6, 25])]\n",
    "\n",
    "ca_tx = shp_voting[shp_voting['state'].isin([6, 48])]"
   ]
  },
  {
   "cell_type": "markdown",
   "metadata": {},
   "source": [
    "`Lmer()` 采用遵循`y ~ X` 格式的公式。1 表示添加截距，`(1|state)` 允许截距在不同状态之间变化。"
   ]
  },
  {
   "cell_type": "markdown",
   "metadata": {},
   "source": [
    "California vs. Texas"
   ]
  },
  {
   "cell_type": "code",
   "execution_count": 8,
   "metadata": {},
   "outputs": [
    {
     "name": "stdout",
     "output_type": "stream",
     "text": [
      "Linear mixed model fit by REML [’lmerMod’]\n",
      "Formula: new_pct_dem~1+(1|state)\n",
      "\n",
      "Family: gaussian\t Inference: parametric\n",
      "\n",
      "Number of observations: 312\t Groups: {'state': 2.0}\n",
      "\n",
      "Log-likelihood: -1278.940 \t AIC: 2563.881\n",
      "\n",
      "Random effects:\n",
      "\n",
      "                 Name      Var     Std\n",
      "state     (Intercept)  458.854  21.421\n",
      "Residual               210.864  14.521\n",
      "\n",
      "No random effect correlations specified\n",
      "\n",
      "Fixed effects:\n",
      "\n"
     ]
    },
    {
     "data": {
      "text/html": [
       "<div>\n",
       "<style scoped>\n",
       "    .dataframe tbody tr th:only-of-type {\n",
       "        vertical-align: middle;\n",
       "    }\n",
       "\n",
       "    .dataframe tbody tr th {\n",
       "        vertical-align: top;\n",
       "    }\n",
       "\n",
       "    .dataframe thead th {\n",
       "        text-align: right;\n",
       "    }\n",
       "</style>\n",
       "<table border=\"1\" class=\"dataframe\">\n",
       "  <thead>\n",
       "    <tr style=\"text-align: right;\">\n",
       "      <th></th>\n",
       "      <th>Estimate</th>\n",
       "      <th>2.5_ci</th>\n",
       "      <th>97.5_ci</th>\n",
       "      <th>SE</th>\n",
       "      <th>DF</th>\n",
       "      <th>T-stat</th>\n",
       "      <th>P-val</th>\n",
       "      <th>Sig</th>\n",
       "    </tr>\n",
       "  </thead>\n",
       "  <tbody>\n",
       "    <tr>\n",
       "      <th>(Intercept)</th>\n",
       "      <td>39.981</td>\n",
       "      <td>10.222</td>\n",
       "      <td>69.74</td>\n",
       "      <td>15.184</td>\n",
       "      <td>1.0</td>\n",
       "      <td>2.633</td>\n",
       "      <td>0.231</td>\n",
       "      <td></td>\n",
       "    </tr>\n",
       "  </tbody>\n",
       "</table>\n",
       "</div>"
      ],
      "text/plain": [
       "             Estimate  2.5_ci  97.5_ci      SE   DF  T-stat  P-val Sig\n",
       "(Intercept)    39.981  10.222    69.74  15.184  1.0   2.633  0.231    "
      ]
     },
     "execution_count": 8,
     "metadata": {},
     "output_type": "execute_result"
    }
   ],
   "source": [
    "warnings.filterwarnings('ignore')\n",
    "\n",
    "from pymer4.models import Lmer\n",
    "\n",
    "model = Lmer('new_pct_dem ~ 1 + (1|state)', data=ca_tx)\n",
    "\n",
    "model.fit()"
   ]
  },
  {
   "cell_type": "markdown",
   "metadata": {},
   "source": [
    "从摘要中可以看出：\n",
    "\n",
    "- 有 312 个观测值（加利福尼亚州的县总数 + 德克萨斯州的县总数）\n",
    "- 有 2 个组\n",
    "- 该模型的 AIC 为 2563.881\n",
    "- 州级随机效应的估计方差为 458.854，标准差为 21.421\n",
    "- 残差的估计方差为 210.864，标准差为 14.521。\n",
    "- 方差分割系数 (VPC) = 458.854/(458.854+210.864) = 68.5%。这意味着投票偏好中 68.5% 的方差可归因于县属于两个独立州的事实。\n",
    "- 对固定效应的解释与我们在线性回归中的解释相同。没有预测因子，这里只有一个截距，截距估计值为 39.981，并且不具有统计学意义（p 值 = 0.231 > 0.05）。\n",
    "\n"
   ]
  },
  {
   "cell_type": "markdown",
   "metadata": {},
   "source": [
    "California vs. Mass."
   ]
  },
  {
   "cell_type": "code",
   "execution_count": 9,
   "metadata": {},
   "outputs": [
    {
     "name": "stdout",
     "output_type": "stream",
     "text": [
      "Linear mixed model fit by REML [’lmerMod’]\n",
      "Formula: new_pct_dem~1+(1|state)\n",
      "\n",
      "Family: gaussian\t Inference: parametric\n",
      "\n",
      "Number of observations: 72\t Groups: {'state': 2.0}\n",
      "\n",
      "Log-likelihood: -293.063 \t AIC: 592.127\n",
      "\n",
      "Random effects:\n",
      "\n",
      "                 Name      Var     Std\n",
      "state     (Intercept)   77.881   8.825\n",
      "Residual               205.493  14.335\n",
      "\n",
      "No random effect correlations specified\n",
      "\n",
      "Fixed effects:\n",
      "\n"
     ]
    },
    {
     "data": {
      "text/html": [
       "<div>\n",
       "<style scoped>\n",
       "    .dataframe tbody tr th:only-of-type {\n",
       "        vertical-align: middle;\n",
       "    }\n",
       "\n",
       "    .dataframe tbody tr th {\n",
       "        vertical-align: top;\n",
       "    }\n",
       "\n",
       "    .dataframe thead th {\n",
       "        text-align: right;\n",
       "    }\n",
       "</style>\n",
       "<table border=\"1\" class=\"dataframe\">\n",
       "  <thead>\n",
       "    <tr style=\"text-align: right;\">\n",
       "      <th></th>\n",
       "      <th>Estimate</th>\n",
       "      <th>2.5_ci</th>\n",
       "      <th>97.5_ci</th>\n",
       "      <th>SE</th>\n",
       "      <th>DF</th>\n",
       "      <th>T-stat</th>\n",
       "      <th>P-val</th>\n",
       "      <th>Sig</th>\n",
       "    </tr>\n",
       "  </thead>\n",
       "  <tbody>\n",
       "    <tr>\n",
       "      <th>(Intercept)</th>\n",
       "      <td>61.384</td>\n",
       "      <td>48.484</td>\n",
       "      <td>74.284</td>\n",
       "      <td>6.582</td>\n",
       "      <td>0.984</td>\n",
       "      <td>9.327</td>\n",
       "      <td>0.07</td>\n",
       "      <td>.</td>\n",
       "    </tr>\n",
       "  </tbody>\n",
       "</table>\n",
       "</div>"
      ],
      "text/plain": [
       "             Estimate  2.5_ci  97.5_ci     SE     DF  T-stat  P-val Sig\n",
       "(Intercept)    61.384  48.484   74.284  6.582  0.984   9.327   0.07   ."
      ]
     },
     "execution_count": 9,
     "metadata": {},
     "output_type": "execute_result"
    }
   ],
   "source": [
    "warnings.filterwarnings('ignore')\n",
    "\n",
    "model2 = Lmer('new_pct_dem ~ 1 + (1|state)', data=ca_ma)\n",
    "\n",
    "model2.fit()"
   ]
  },
  {
   "cell_type": "markdown",
   "metadata": {},
   "source": [
    "### 针对所有状态改变截距模型"
   ]
  },
  {
   "cell_type": "code",
   "execution_count": 10,
   "metadata": {},
   "outputs": [
    {
     "name": "stdout",
     "output_type": "stream",
     "text": [
      "Linear mixed model fit by REML [’lmerMod’]\n",
      "Formula: new_pct_dem~1+(1|state)\n",
      "\n",
      "Family: gaussian\t Inference: parametric\n",
      "\n",
      "Number of observations: 3102\t Groups: {'state': 47.0}\n",
      "\n",
      "Log-likelihood: -12510.156 \t AIC: 25026.312\n",
      "\n",
      "Random effects:\n",
      "\n",
      "                 Name      Var     Std\n",
      "state     (Intercept)  134.233  11.586\n",
      "Residual               176.567  13.288\n",
      "\n",
      "No random effect correlations specified\n",
      "\n",
      "Fixed effects:\n",
      "\n"
     ]
    },
    {
     "data": {
      "text/html": [
       "<div>\n",
       "<style scoped>\n",
       "    .dataframe tbody tr th:only-of-type {\n",
       "        vertical-align: middle;\n",
       "    }\n",
       "\n",
       "    .dataframe tbody tr th {\n",
       "        vertical-align: top;\n",
       "    }\n",
       "\n",
       "    .dataframe thead th {\n",
       "        text-align: right;\n",
       "    }\n",
       "</style>\n",
       "<table border=\"1\" class=\"dataframe\">\n",
       "  <thead>\n",
       "    <tr style=\"text-align: right;\">\n",
       "      <th></th>\n",
       "      <th>Estimate</th>\n",
       "      <th>2.5_ci</th>\n",
       "      <th>97.5_ci</th>\n",
       "      <th>SE</th>\n",
       "      <th>DF</th>\n",
       "      <th>T-stat</th>\n",
       "      <th>P-val</th>\n",
       "      <th>Sig</th>\n",
       "    </tr>\n",
       "  </thead>\n",
       "  <tbody>\n",
       "    <tr>\n",
       "      <th>(Intercept)</th>\n",
       "      <td>37.507</td>\n",
       "      <td>34.129</td>\n",
       "      <td>40.885</td>\n",
       "      <td>1.724</td>\n",
       "      <td>43.861</td>\n",
       "      <td>21.761</td>\n",
       "      <td>0.0</td>\n",
       "      <td>***</td>\n",
       "    </tr>\n",
       "  </tbody>\n",
       "</table>\n",
       "</div>"
      ],
      "text/plain": [
       "             Estimate  2.5_ci  97.5_ci     SE      DF  T-stat  P-val  Sig\n",
       "(Intercept)    37.507  34.129   40.885  1.724  43.861  21.761    0.0  ***"
      ]
     },
     "execution_count": 10,
     "metadata": {},
     "output_type": "execute_result"
    }
   ],
   "source": [
    "warnings.filterwarnings('ignore')\n",
    "\n",
    "model_all_states_1 = Lmer('new_pct_dem ~ 1 + (1|state)', data=shp_voting_df)\n",
    "\n",
    "model_all_states_1.fit()"
   ]
  },
  {
   "cell_type": "markdown",
   "metadata": {},
   "source": [
    "What is VPC in this case?"
   ]
  },
  {
   "cell_type": "code",
   "execution_count": null,
   "metadata": {},
   "outputs": [],
   "source": []
  },
  {
   "cell_type": "markdown",
   "metadata": {},
   "source": [
    "### 现在我们添加一些县级（个人）变量\n",
    "\n",
    "这里我们将 `pct_bach` 纳入模型作为固定效应"
   ]
  },
  {
   "cell_type": "code",
   "execution_count": 11,
   "metadata": {},
   "outputs": [
    {
     "name": "stdout",
     "output_type": "stream",
     "text": [
      "Linear mixed model fit by REML [’lmerMod’]\n",
      "Formula: new_pct_dem~1+pct_bach+(1|state)\n",
      "\n",
      "Family: gaussian\t Inference: parametric\n",
      "\n",
      "Number of observations: 3102\t Groups: {'state': 47.0}\n",
      "\n",
      "Log-likelihood: -12069.178 \t AIC: 24146.356\n",
      "\n",
      "Random effects:\n",
      "\n",
      "                 Name      Var     Std\n",
      "state     (Intercept)   76.666   8.756\n",
      "Residual               133.186  11.541\n",
      "\n",
      "No random effect correlations specified\n",
      "\n",
      "Fixed effects:\n",
      "\n"
     ]
    },
    {
     "data": {
      "text/html": [
       "<div>\n",
       "<style scoped>\n",
       "    .dataframe tbody tr th:only-of-type {\n",
       "        vertical-align: middle;\n",
       "    }\n",
       "\n",
       "    .dataframe tbody tr th {\n",
       "        vertical-align: top;\n",
       "    }\n",
       "\n",
       "    .dataframe thead th {\n",
       "        text-align: right;\n",
       "    }\n",
       "</style>\n",
       "<table border=\"1\" class=\"dataframe\">\n",
       "  <thead>\n",
       "    <tr style=\"text-align: right;\">\n",
       "      <th></th>\n",
       "      <th>Estimate</th>\n",
       "      <th>2.5_ci</th>\n",
       "      <th>97.5_ci</th>\n",
       "      <th>SE</th>\n",
       "      <th>DF</th>\n",
       "      <th>T-stat</th>\n",
       "      <th>P-val</th>\n",
       "      <th>Sig</th>\n",
       "    </tr>\n",
       "  </thead>\n",
       "  <tbody>\n",
       "    <tr>\n",
       "      <th>(Intercept)</th>\n",
       "      <td>18.930</td>\n",
       "      <td>16.125</td>\n",
       "      <td>21.735</td>\n",
       "      <td>1.431</td>\n",
       "      <td>62.434</td>\n",
       "      <td>13.226</td>\n",
       "      <td>0.0</td>\n",
       "      <td>***</td>\n",
       "    </tr>\n",
       "    <tr>\n",
       "      <th>pct_bach</th>\n",
       "      <td>0.776</td>\n",
       "      <td>0.728</td>\n",
       "      <td>0.823</td>\n",
       "      <td>0.024</td>\n",
       "      <td>3097.039</td>\n",
       "      <td>32.086</td>\n",
       "      <td>0.0</td>\n",
       "      <td>***</td>\n",
       "    </tr>\n",
       "  </tbody>\n",
       "</table>\n",
       "</div>"
      ],
      "text/plain": [
       "             Estimate  2.5_ci  97.5_ci     SE        DF  T-stat  P-val  Sig\n",
       "(Intercept)    18.930  16.125   21.735  1.431    62.434  13.226    0.0  ***\n",
       "pct_bach        0.776   0.728    0.823  0.024  3097.039  32.086    0.0  ***"
      ]
     },
     "execution_count": 11,
     "metadata": {},
     "output_type": "execute_result"
    }
   ],
   "source": [
    "warnings.filterwarnings('ignore')\n",
    "\n",
    "model_all_states_2 = Lmer('new_pct_dem ~ 1 + pct_bach + (1|state)', data=shp_voting_df)\n",
    "\n",
    "model_all_states_2.fit()"
   ]
  },
  {
   "cell_type": "markdown",
   "metadata": {},
   "source": [
    "模型 AIC 随着添加此 `pct_bach` 变量而下降。对此变量的解释是：在考虑州级差异后，`pct_bach` 的估计值为 0.776，p 值较低。在全国范围内，在其他因素保持不变的情况下，`pct_bach` 增加 1% 将导致投票给 DEM 的人增加 `0.776%`。"
   ]
  },
  {
   "cell_type": "code",
   "execution_count": null,
   "metadata": {},
   "outputs": [],
   "source": []
  },
  {
   "cell_type": "markdown",
   "metadata": {},
   "source": [
    "### 现在我们添加一个州级（组）变量\n",
    "\n",
    "这里我们将`is_dem_gov`作为固定效应纳入模型"
   ]
  },
  {
   "cell_type": "code",
   "execution_count": 12,
   "metadata": {},
   "outputs": [
    {
     "name": "stdout",
     "output_type": "stream",
     "text": [
      "Linear mixed model fit by REML [’lmerMod’]\n",
      "Formula: new_pct_dem~1+pct_bach+is_dem_gov+(1|state)\n",
      "\n",
      "Family: gaussian\t Inference: parametric\n",
      "\n",
      "Number of observations: 3102\t Groups: {'state': 47.0}\n",
      "\n",
      "Log-likelihood: -12065.543 \t AIC: 24141.087\n",
      "\n",
      "Random effects:\n",
      "\n",
      "                 Name      Var     Std\n",
      "state     (Intercept)   72.165   8.495\n",
      "Residual               133.190  11.541\n",
      "\n",
      "No random effect correlations specified\n",
      "\n",
      "Fixed effects:\n",
      "\n"
     ]
    },
    {
     "data": {
      "text/html": [
       "<div>\n",
       "<style scoped>\n",
       "    .dataframe tbody tr th:only-of-type {\n",
       "        vertical-align: middle;\n",
       "    }\n",
       "\n",
       "    .dataframe tbody tr th {\n",
       "        vertical-align: top;\n",
       "    }\n",
       "\n",
       "    .dataframe thead th {\n",
       "        text-align: right;\n",
       "    }\n",
       "</style>\n",
       "<table border=\"1\" class=\"dataframe\">\n",
       "  <thead>\n",
       "    <tr style=\"text-align: right;\">\n",
       "      <th></th>\n",
       "      <th>Estimate</th>\n",
       "      <th>2.5_ci</th>\n",
       "      <th>97.5_ci</th>\n",
       "      <th>SE</th>\n",
       "      <th>DF</th>\n",
       "      <th>T-stat</th>\n",
       "      <th>P-val</th>\n",
       "      <th>Sig</th>\n",
       "    </tr>\n",
       "  </thead>\n",
       "  <tbody>\n",
       "    <tr>\n",
       "      <th>(Intercept)</th>\n",
       "      <td>16.666</td>\n",
       "      <td>13.087</td>\n",
       "      <td>20.244</td>\n",
       "      <td>1.826</td>\n",
       "      <td>51.528</td>\n",
       "      <td>9.127</td>\n",
       "      <td>0.000</td>\n",
       "      <td>***</td>\n",
       "    </tr>\n",
       "    <tr>\n",
       "      <th>pct_bach</th>\n",
       "      <td>0.775</td>\n",
       "      <td>0.728</td>\n",
       "      <td>0.823</td>\n",
       "      <td>0.024</td>\n",
       "      <td>3096.963</td>\n",
       "      <td>32.081</td>\n",
       "      <td>0.000</td>\n",
       "      <td>***</td>\n",
       "    </tr>\n",
       "    <tr>\n",
       "      <th>is_dem_govTRUE</th>\n",
       "      <td>4.864</td>\n",
       "      <td>-0.138</td>\n",
       "      <td>9.867</td>\n",
       "      <td>2.552</td>\n",
       "      <td>43.097</td>\n",
       "      <td>1.906</td>\n",
       "      <td>0.063</td>\n",
       "      <td>.</td>\n",
       "    </tr>\n",
       "  </tbody>\n",
       "</table>\n",
       "</div>"
      ],
      "text/plain": [
       "                Estimate  2.5_ci  97.5_ci     SE        DF  T-stat  P-val  Sig\n",
       "(Intercept)       16.666  13.087   20.244  1.826    51.528   9.127  0.000  ***\n",
       "pct_bach           0.775   0.728    0.823  0.024  3096.963  32.081  0.000  ***\n",
       "is_dem_govTRUE     4.864  -0.138    9.867  2.552    43.097   1.906  0.063    ."
      ]
     },
     "execution_count": 12,
     "metadata": {},
     "output_type": "execute_result"
    }
   ],
   "source": [
    "warnings.filterwarnings('ignore')\n",
    "\n",
    "model_all_states_3 = Lmer('new_pct_dem ~ 1 + pct_bach + is_dem_gov + (1|state)', data=shp_voting_df)\n",
    "\n",
    "model_all_states_3.fit()"
   ]
  },
  {
   "cell_type": "markdown",
   "metadata": {},
   "source": [
    "考虑到州级差异后，“is_dem_gov”的估计值为 4.864，p 值较高（0.063 > 0.05）。这意味着，在全国范围内，如果一个州有一位民主党州长，将为 DEM 带来 4.86% 的选票，然而，考虑到目前的数据和模型，这种影响在 0.05 的水平上并不具有统计学意义。"
   ]
  },
  {
   "cell_type": "code",
   "execution_count": null,
   "metadata": {},
   "outputs": [],
   "source": []
  },
  {
   "cell_type": "code",
   "execution_count": null,
   "metadata": {},
   "outputs": [],
   "source": []
  },
  {
   "cell_type": "code",
   "execution_count": null,
   "metadata": {},
   "outputs": [],
   "source": []
  }
 ],
 "metadata": {
  "kernelspec": {
   "display_name": "Python 3 (ipykernel)",
   "language": "python",
   "name": "python3"
  },
  "language_info": {
   "codemirror_mode": {
    "name": "ipython",
    "version": 3
   },
   "file_extension": ".py",
   "mimetype": "text/x-python",
   "name": "python",
   "nbconvert_exporter": "python",
   "pygments_lexer": "ipython3",
   "version": "3.11.5"
  }
 },
 "nbformat": 4,
 "nbformat_minor": 4
}
