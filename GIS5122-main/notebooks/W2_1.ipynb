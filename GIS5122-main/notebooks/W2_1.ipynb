{
 "cells": [
  {
   "cell_type": "markdown",
   "metadata": {},
   "source": [
    "### 统计推断：Bootstrap 置信区间\n",
    "\n",
    "本笔记本演示了如何使用引导方法构建统计数据的置信区间。 我们还将检查 CI 的覆盖概率。\n",
    "\n",
    "- 构建 Bootstrap 置信区间\n",
    "- 检查覆盖概率\n",
    "- Bootstrap CI 相关系数"
   ]
  },
  {
   "cell_type": "code",
   "execution_count": 1,
   "metadata": {},
   "outputs": [],
   "source": [
    "import numpy as np\n",
    "import matplotlib.pyplot as plt"
   ]
  },
  {
   "cell_type": "code",
   "execution_count": 2,
   "metadata": {},
   "outputs": [
    {
     "data": {
      "text/plain": [
       "array([20.14846988, 13.40823552, 13.32946651, 19.12680721, 17.52762493,\n",
       "       45.23921971, 34.37879933, 18.87102583, 15.96800357, 25.24450873,\n",
       "       20.40852062, 22.59343075, 34.79216096, 16.89194103, 28.92760549,\n",
       "       18.84044456, 18.28049028, 20.10881674,  7.68688806, 10.37430632,\n",
       "       20.3172587 , 26.42390427, 39.13238623,  7.40129486,  4.38548135,\n",
       "       23.36831945, 26.89693477, 15.4169132 , 36.71645312,  7.00419646,\n",
       "       15.15546063, 13.59549372, 18.88764964, 30.84743651, 31.79246417,\n",
       "        1.91489133, 19.86336078, 21.92654346, 20.24120974, 19.78252461,\n",
       "       29.67569607, 22.84760632,  5.64987682,  8.71363322, 21.88605373,\n",
       "       23.48926653, 23.0107298 , 39.27012335, 13.98657903, 33.82055816,\n",
       "       20.11463245, 21.64808896, -0.70135753, 31.30912412, -1.16449383,\n",
       "       24.14380325, 35.47126313, 17.98800236, 18.58904375,  5.67235521,\n",
       "       21.28026186, 19.49719148, 41.08458071, 10.09613031, 31.31805292,\n",
       "       29.79117483, 13.69039686, 16.06187024, 35.57088589, 16.34373587,\n",
       "       17.45492499,  9.27927219, 18.36888727, 15.62266002, 17.47501537,\n",
       "       16.19066077, 22.28515871, 33.46323477, 10.23985703, 25.26497935,\n",
       "        5.08193247, 36.18867675, 12.35343392, 24.85332929,  6.87104071,\n",
       "       15.16828773, 28.68638639, 38.51222579,  0.90316588, 17.36319043,\n",
       "        9.1263876 , 10.78820054, 13.35119181, 39.2378541 , 17.60207791,\n",
       "       -1.29705377, 22.3886622 , 10.98409074, 20.81760636,  5.51315604])"
      ]
     },
     "execution_count": 2,
     "metadata": {},
     "output_type": "execute_result"
    }
   ],
   "source": [
    "#Generate some random data\n",
    "data = np.random.randn(100)*10 + 20\n",
    "\n",
    "data"
   ]
  },
  {
   "cell_type": "code",
   "execution_count": 3,
   "metadata": {},
   "outputs": [
    {
     "data": {
      "text/plain": [
       "(array([ 6., 13., 16., 30., 13.,  9., 11.,  2.]),\n",
       " array([-1.29705377,  4.51998042, 10.3370146 , 16.15404879, 21.97108297,\n",
       "        27.78811715, 33.60515134, 39.42218552, 45.23921971]),\n",
       " <BarContainer object of 8 artists>)"
      ]
     },
     "execution_count": 3,
     "metadata": {},
     "output_type": "execute_result"
    },
    {
     "data": {
      "image/png": "[encoded data removed]",
      "text/plain": [
       "<Figure size 640x480 with 1 Axes>"
      ]
     },
     "metadata": {},
     "output_type": "display_data"
    }
   ],
   "source": [
    "plt.hist(data,bins=8)"
   ]
  },
  {
   "cell_type": "code",
   "execution_count": 4,
   "metadata": {},
   "outputs": [
    {
     "name": "stdout",
     "output_type": "stream",
     "text": [
      "Population mean is: 19.73510302232665\n",
      "Population variance is: 105.44761217481347\n"
     ]
    }
   ],
   "source": [
    "print(\"Population mean is:\", np.mean(data))\n",
    "\n",
    "print(\"Population variance is:\", np.var(data))"
   ]
  },
  {
   "cell_type": "code",
   "execution_count": 5,
   "metadata": {},
   "outputs": [
    {
     "data": {
      "text/plain": [
       "array([30.84743651, 39.13238623, 34.37879933, 13.32946651, 13.69039686,\n",
       "        9.1263876 ,  6.87104071, 31.79246417, 10.98409074, 18.58904375,\n",
       "       18.87102583, 10.23985703, 13.59549372, 25.24450873, 26.42390427,\n",
       "        5.08193247, 31.79246417, 28.92760549, 15.4169132 ,  8.71363322,\n",
       "        7.00419646, 25.26497935,  5.51315604, 22.28515871, 15.15546063,\n",
       "       30.84743651, 24.14380325, 13.98657903, 25.24450873,  0.90316588])"
      ]
     },
     "execution_count": 5,
     "metadata": {},
     "output_type": "execute_result"
    }
   ],
   "source": [
    "#One sample with 30 numbers, this is what we have in hand.\n",
    "\n",
    "sample_30 = np.random.choice(data, 30, replace=True)\n",
    "\n",
    "sample_30"
   ]
  },
  {
   "cell_type": "markdown",
   "metadata": {},
   "source": [
    "1.构建Bootstrap CI"
   ]
  },
  {
   "cell_type": "code",
   "execution_count": 6,
   "metadata": {},
   "outputs": [],
   "source": [
    "#Define a bootstrap function:\n",
    "def bootstrap(sample):\n",
    "    \n",
    "    bootstrap_mean_list = []\n",
    "    \n",
    "    for i in range(10000):\n",
    "        #generate a re-sample with the original sample size, with replacement\n",
    "        subsample = np.random.choice(sample, len(sample), replace=True)\n",
    "        \n",
    "        #compute sub-sample mean\n",
    "        subsample_mean = np.mean(subsample)\n",
    "\n",
    "        bootstrap_mean_list.append(subsample_mean)\n",
    "    \n",
    "    #Calculatet the mean and std of the bootstrap sampling distribution\n",
    "    bootstrap_mean = np.mean(bootstrap_mean_list)\n",
    "    boostrap_std = np.std(bootstrap_mean_list)\n",
    "    \n",
    "    # mean +- 2*std for an approximate 95% CI.\n",
    "    CI = [(bootstrap_mean - 2*boostrap_std), (bootstrap_mean + 2*boostrap_std)]\n",
    "    \n",
    "    return CI,bootstrap_mean_list\n",
    "    "
   ]
  },
  {
   "cell_type": "code",
   "execution_count": 7,
   "metadata": {},
   "outputs": [],
   "source": [
    "#Do the same thing for the percentile-based method:\n",
    "def bootstrap_perc(sample):\n",
    "    \n",
    "    bootstrap_mean_list = []\n",
    "    \n",
    "    for i in range(1000):\n",
    "        #generate a re-sample with the original sample size, with replacement\n",
    "        subsample = np.random.choice(sample, len(sample), replace=True)\n",
    "        \n",
    "        #compute sample mean\n",
    "        subsample_mean = np.mean(subsample)\n",
    "\n",
    "        bootstrap_mean_list.append(subsample_mean)\n",
    "    \n",
    "    #Get the lower and upper bound for the middle 95%:\n",
    "    percentile_CI = [np.percentile(bootstrap_mean_list, 2.5), \n",
    "          np.percentile(bootstrap_mean_list, 97.5)]\n",
    "    \n",
    "    return percentile_CI,bootstrap_mean_list\n",
    "    "
   ]
  },
  {
   "cell_type": "code",
   "execution_count": 8,
   "metadata": {},
   "outputs": [],
   "source": [
    "#Define a anlytical based function:\n",
    "def anlytical(sample):\n",
    "    \n",
    "    sample_mean = np.mean(sample)\n",
    "    \n",
    "    err_of_margin = 2*np.std(sample)/np.sqrt(len(sample))\n",
    "    \n",
    "    # mean +- 2*std for an approximate 95% CI.\n",
    "    CI_lower = sample_mean - err_of_margin\n",
    "    CI_upper = sample_mean + err_of_margin\n",
    "    \n",
    "    CI = [CI_lower, CI_upper]\n",
    "    \n",
    "    return CI"
   ]
  },
  {
   "cell_type": "markdown",
   "metadata": {},
   "source": [
    "比较引导 CI 与分析 CI："
   ]
  },
  {
   "cell_type": "code",
   "execution_count": 9,
   "metadata": {},
   "outputs": [],
   "source": [
    "bootstrap_CI, bootstrap_mean_list = bootstrap(sample_30)\n",
    "bootstrap_CI_perc, bootstrap_mean_list_perc = bootstrap_perc(sample_30)\n",
    "analytical_CI = anlytical(sample_30)"
   ]
  },
  {
   "cell_type": "code",
   "execution_count": 10,
   "metadata": {},
   "outputs": [
    {
     "name": "stdout",
     "output_type": "stream",
     "text": [
      "95% analytical CI:  [15.105707709695746, 22.45411196607375]\n",
      "95% bootstrap CI:  [15.166149117216644, 22.429589185859715]\n",
      "95% percentile-based bootstrap CI:  [15.128839804780965, 22.302901561304623]\n"
     ]
    }
   ],
   "source": [
    "print(\"95% analytical CI: \", analytical_CI)\n",
    "print(\"95% bootstrap CI: \", bootstrap_CI)\n",
    "print(\"95% percentile-based bootstrap CI: \", bootstrap_CI_perc)"
   ]
  },
  {
   "cell_type": "markdown",
   "metadata": {},
   "source": [
    "2. 测试 95% CI 的覆盖率\n",
    "- 引导程序\n",
    "- 基于百分位数的 Bootstrap\n",
    "- 分析"
   ]
  },
  {
   "cell_type": "code",
   "execution_count": 11,
   "metadata": {},
   "outputs": [
    {
     "name": "stdout",
     "output_type": "stream",
     "text": [
      "CPU times: total: 28.3 s\n",
      "Wall time: 2min 6s\n"
     ]
    }
   ],
   "source": [
    "%%time\n",
    "#generate samples for multiple times\n",
    "counter = 0\n",
    "counter_perc = 0\n",
    "true_mean = np.mean(data)\n",
    "\n",
    "for i in range(1000):\n",
    "    #generate a sample with 30 numbers\n",
    "    sample = np.random.choice(data, 30, replace=True)\n",
    "    \n",
    "    #For each sample, we compute the two CIs:\n",
    "    ci,_ = bootstrap(sample)\n",
    "    perc_ci,_ = bootstrap_perc(sample)\n",
    "    analytical_ci = anlytical(sample)\n",
    "    \n",
    "    #Check the coverage\n",
    "    if ci[0] <= true_mean <= ci[1]:\n",
    "        counter = counter + 1\n",
    "        \n",
    "    if perc_ci[0] <= true_mean <= perc_ci[1]:\n",
    "        counter_perc = counter_perc + 1"
   ]
  },
  {
   "cell_type": "code",
   "execution_count": 12,
   "metadata": {},
   "outputs": [
    {
     "name": "stdout",
     "output_type": "stream",
     "text": [
      "Number of times 95% bootstrap CI covered the population mean: 944 out of 1000\n"
     ]
    }
   ],
   "source": [
    "print(\"Number of times 95% bootstrap CI covered the population mean:\", \n",
    "      counter,\"out of 1000\")"
   ]
  },
  {
   "cell_type": "code",
   "execution_count": 13,
   "metadata": {},
   "outputs": [
    {
     "name": "stdout",
     "output_type": "stream",
     "text": [
      "Number of times 95% percentile-based bootstrap CI covered the population mean: 944 out of 1000\n"
     ]
    }
   ],
   "source": [
    "print(\"Number of times 95% percentile-based bootstrap CI covered the population mean:\", \n",
    "      counter,\"out of 1000\")"
   ]
  },
  {
   "cell_type": "code",
   "execution_count": 14,
   "metadata": {},
   "outputs": [
    {
     "name": "stdout",
     "output_type": "stream",
     "text": [
      "Number of times 95% analytical CI covered the population mean: 944 out of 1000\n"
     ]
    }
   ],
   "source": [
    "print(\"Number of times 95% analytical CI covered the population mean:\", \n",
    "      counter,\"out of 1000\")"
   ]
  },
  {
   "cell_type": "markdown",
   "metadata": {},
   "source": [
    "3. 相关系数的 Bootstrap 置信区间"
   ]
  },
  {
   "cell_type": "code",
   "execution_count": 15,
   "metadata": {},
   "outputs": [],
   "source": [
    "import pandas as pd\n",
    "url = 'https://raw.githubusercontent.com/mwaskom/seaborn-data/master/mpg.csv'\n",
    "df = pd.read_csv(url)\n",
    "df = df.dropna()"
   ]
  },
  {
   "cell_type": "code",
   "execution_count": 16,
   "metadata": {},
   "outputs": [
    {
     "name": "stderr",
     "output_type": "stream",
     "text": [
      "d:\\work\\miniconda3\\lib\\site-packages\\scipy\\__init__.py:146: UserWarning: A NumPy version >=1.16.5 and <1.23.0 is required for this version of SciPy (detected version 1.23.3\n",
      "  warnings.warn(f\"A NumPy version >={np_minversion} and <{np_maxversion}\"\n"
     ]
    },
    {
     "data": {
      "text/plain": [
       "Text(0, 0.5, 'Acceleration')"
      ]
     },
     "execution_count": 16,
     "metadata": {},
     "output_type": "execute_result"
    },
    {
     "data": {
      "image/png": "[encoded data removed]",
      "text/plain": [
       "<Figure size 640x480 with 1 Axes>"
      ]
     },
     "metadata": {},
     "output_type": "display_data"
    }
   ],
   "source": [
    "from scipy.stats import *\n",
    "\n",
    "plt.scatter(df.horsepower, df.acceleration)\n",
    "plt.xlabel(\"Horsepower\")\n",
    "plt.ylabel(\"Acceleration\")"
   ]
  },
  {
   "cell_type": "code",
   "execution_count": 17,
   "metadata": {},
   "outputs": [
    {
     "name": "stdout",
     "output_type": "stream",
     "text": [
      "Pearson: (-0.6891955103342369, 1.5818862297814436e-56)\n"
     ]
    }
   ],
   "source": [
    "print(\"Pearson:\",pearsonr(df.horsepower, df.acceleration))"
   ]
  },
  {
   "cell_type": "code",
   "execution_count": 18,
   "metadata": {},
   "outputs": [
    {
     "data": {
      "text/html": [
       "<div>\n",
       "<style scoped>\n",
       "    .dataframe tbody tr th:only-of-type {\n",
       "        vertical-align: middle;\n",
       "    }\n",
       "\n",
       "    .dataframe tbody tr th {\n",
       "        vertical-align: top;\n",
       "    }\n",
       "\n",
       "    .dataframe thead th {\n",
       "        text-align: right;\n",
       "    }\n",
       "</style>\n",
       "<table border=\"1\" class=\"dataframe\">\n",
       "  <thead>\n",
       "    <tr style=\"text-align: right;\">\n",
       "      <th></th>\n",
       "      <th>mpg</th>\n",
       "      <th>cylinders</th>\n",
       "      <th>displacement</th>\n",
       "      <th>horsepower</th>\n",
       "      <th>weight</th>\n",
       "      <th>acceleration</th>\n",
       "      <th>model_year</th>\n",
       "      <th>origin</th>\n",
       "      <th>name</th>\n",
       "    </tr>\n",
       "  </thead>\n",
       "  <tbody>\n",
       "    <tr>\n",
       "      <th>238</th>\n",
       "      <td>33.5</td>\n",
       "      <td>4</td>\n",
       "      <td>98.0</td>\n",
       "      <td>83.0</td>\n",
       "      <td>2075</td>\n",
       "      <td>15.9</td>\n",
       "      <td>77</td>\n",
       "      <td>usa</td>\n",
       "      <td>dodge colt m/m</td>\n",
       "    </tr>\n",
       "    <tr>\n",
       "      <th>194</th>\n",
       "      <td>22.5</td>\n",
       "      <td>6</td>\n",
       "      <td>232.0</td>\n",
       "      <td>90.0</td>\n",
       "      <td>3085</td>\n",
       "      <td>17.6</td>\n",
       "      <td>76</td>\n",
       "      <td>usa</td>\n",
       "      <td>amc hornet</td>\n",
       "    </tr>\n",
       "    <tr>\n",
       "      <th>380</th>\n",
       "      <td>36.0</td>\n",
       "      <td>4</td>\n",
       "      <td>120.0</td>\n",
       "      <td>88.0</td>\n",
       "      <td>2160</td>\n",
       "      <td>14.5</td>\n",
       "      <td>82</td>\n",
       "      <td>japan</td>\n",
       "      <td>nissan stanza xe</td>\n",
       "    </tr>\n",
       "    <tr>\n",
       "      <th>142</th>\n",
       "      <td>26.0</td>\n",
       "      <td>4</td>\n",
       "      <td>79.0</td>\n",
       "      <td>67.0</td>\n",
       "      <td>1963</td>\n",
       "      <td>15.5</td>\n",
       "      <td>74</td>\n",
       "      <td>europe</td>\n",
       "      <td>volkswagen dasher</td>\n",
       "    </tr>\n",
       "    <tr>\n",
       "      <th>312</th>\n",
       "      <td>37.2</td>\n",
       "      <td>4</td>\n",
       "      <td>86.0</td>\n",
       "      <td>65.0</td>\n",
       "      <td>2019</td>\n",
       "      <td>16.4</td>\n",
       "      <td>80</td>\n",
       "      <td>japan</td>\n",
       "      <td>datsun 310</td>\n",
       "    </tr>\n",
       "    <tr>\n",
       "      <th>...</th>\n",
       "      <td>...</td>\n",
       "      <td>...</td>\n",
       "      <td>...</td>\n",
       "      <td>...</td>\n",
       "      <td>...</td>\n",
       "      <td>...</td>\n",
       "      <td>...</td>\n",
       "      <td>...</td>\n",
       "      <td>...</td>\n",
       "    </tr>\n",
       "    <tr>\n",
       "      <th>271</th>\n",
       "      <td>23.2</td>\n",
       "      <td>4</td>\n",
       "      <td>156.0</td>\n",
       "      <td>105.0</td>\n",
       "      <td>2745</td>\n",
       "      <td>16.7</td>\n",
       "      <td>78</td>\n",
       "      <td>usa</td>\n",
       "      <td>plymouth sapporo</td>\n",
       "    </tr>\n",
       "    <tr>\n",
       "      <th>136</th>\n",
       "      <td>16.0</td>\n",
       "      <td>8</td>\n",
       "      <td>302.0</td>\n",
       "      <td>140.0</td>\n",
       "      <td>4141</td>\n",
       "      <td>14.0</td>\n",
       "      <td>74</td>\n",
       "      <td>usa</td>\n",
       "      <td>ford gran torino</td>\n",
       "    </tr>\n",
       "    <tr>\n",
       "      <th>332</th>\n",
       "      <td>29.8</td>\n",
       "      <td>4</td>\n",
       "      <td>89.0</td>\n",
       "      <td>62.0</td>\n",
       "      <td>1845</td>\n",
       "      <td>15.3</td>\n",
       "      <td>80</td>\n",
       "      <td>europe</td>\n",
       "      <td>vokswagen rabbit</td>\n",
       "    </tr>\n",
       "    <tr>\n",
       "      <th>272</th>\n",
       "      <td>23.8</td>\n",
       "      <td>4</td>\n",
       "      <td>151.0</td>\n",
       "      <td>85.0</td>\n",
       "      <td>2855</td>\n",
       "      <td>17.6</td>\n",
       "      <td>78</td>\n",
       "      <td>usa</td>\n",
       "      <td>oldsmobile starfire sx</td>\n",
       "    </tr>\n",
       "    <tr>\n",
       "      <th>85</th>\n",
       "      <td>13.0</td>\n",
       "      <td>8</td>\n",
       "      <td>350.0</td>\n",
       "      <td>175.0</td>\n",
       "      <td>4100</td>\n",
       "      <td>13.0</td>\n",
       "      <td>73</td>\n",
       "      <td>usa</td>\n",
       "      <td>buick century 350</td>\n",
       "    </tr>\n",
       "  </tbody>\n",
       "</table>\n",
       "<p>118 rows × 9 columns</p>\n",
       "</div>"
      ],
      "text/plain": [
       "      mpg  cylinders  displacement  horsepower  weight  acceleration  \\\n",
       "238  33.5          4          98.0        83.0    2075          15.9   \n",
       "194  22.5          6         232.0        90.0    3085          17.6   \n",
       "380  36.0          4         120.0        88.0    2160          14.5   \n",
       "142  26.0          4          79.0        67.0    1963          15.5   \n",
       "312  37.2          4          86.0        65.0    2019          16.4   \n",
       "..    ...        ...           ...         ...     ...           ...   \n",
       "271  23.2          4         156.0       105.0    2745          16.7   \n",
       "136  16.0          8         302.0       140.0    4141          14.0   \n",
       "332  29.8          4          89.0        62.0    1845          15.3   \n",
       "272  23.8          4         151.0        85.0    2855          17.6   \n",
       "85   13.0          8         350.0       175.0    4100          13.0   \n",
       "\n",
       "     model_year  origin                    name  \n",
       "238          77     usa          dodge colt m/m  \n",
       "194          76     usa              amc hornet  \n",
       "380          82   japan        nissan stanza xe  \n",
       "142          74  europe       volkswagen dasher  \n",
       "312          80   japan              datsun 310  \n",
       "..          ...     ...                     ...  \n",
       "271          78     usa        plymouth sapporo  \n",
       "136          74     usa        ford gran torino  \n",
       "332          80  europe        vokswagen rabbit  \n",
       "272          78     usa  oldsmobile starfire sx  \n",
       "85           73     usa       buick century 350  \n",
       "\n",
       "[118 rows x 9 columns]"
      ]
     },
     "execution_count": 18,
     "metadata": {},
     "output_type": "execute_result"
    }
   ],
   "source": [
    "sample_car = df.sample(frac=0.3,replace=True)\n",
    "sample_car"
   ]
  },
  {
   "cell_type": "code",
   "execution_count": 19,
   "metadata": {},
   "outputs": [
    {
     "name": "stdout",
     "output_type": "stream",
     "text": [
      "Pearson: (-0.7670736293678354, 4.176876123725007e-24)\n"
     ]
    }
   ],
   "source": [
    "print(\"Pearson:\",pearsonr(sample_car.horsepower, sample_car.acceleration))"
   ]
  },
  {
   "cell_type": "code",
   "execution_count": 20,
   "metadata": {},
   "outputs": [],
   "source": [
    "#Define a bootstrap function:\n",
    "np.random.seed(222)\n",
    "def bootstrap_pearson(sample_car):\n",
    "    \n",
    "    bootstrap_cor_list = []\n",
    "    \n",
    "    for i in range(10000):\n",
    "        #generate a re-sample with the original sample size, with replacement\n",
    "        subsample = sample_car.sample(len(sample), replace=True)\n",
    "        \n",
    "        #compute correlation\n",
    "        sample_cor = pearsonr(subsample.horsepower, subsample.acceleration)[0]\n",
    "\n",
    "        bootstrap_cor_list.append(sample_cor)\n",
    "    \n",
    "    #Get the lower and upper bound for the middle 95%:\n",
    "    percentile_CI = [np.percentile(bootstrap_cor_list, 2.5), \n",
    "          np.percentile(bootstrap_cor_list, 97.5)]\n",
    "    \n",
    "    return percentile_CI\n",
    "    "
   ]
  },
  {
   "cell_type": "code",
   "execution_count": 21,
   "metadata": {},
   "outputs": [
    {
     "data": {
      "text/plain": [
       "[-0.897486157722385, -0.49473536389623324]"
      ]
     },
     "execution_count": 21,
     "metadata": {},
     "output_type": "execute_result"
    }
   ],
   "source": [
    "bootstrap_pearson(sample_car)"
   ]
  },
  {
   "cell_type": "code",
   "execution_count": 22,
   "metadata": {},
   "outputs": [
    {
     "name": "stdout",
     "output_type": "stream",
     "text": [
      "95% confidence interval of the Pearson correlation coefficient is: [-0.855 to -0.606]\n"
     ]
    }
   ],
   "source": [
    "print(\"95% confidence interval of the Pearson correlation coefficient is:\",\n",
    "     \"[-0.855 to -0.606]\")\n"
   ]
  },
  {
   "cell_type": "markdown",
   "metadata": {},
   "source": [
    "我们有 95% 的信心认为人群中 HP 和 ACC 的真实相关性在 -0.855 到 -0.606 之间。"
   ]
  },
  {
   "cell_type": "markdown",
   "metadata": {},
   "source": [
    "在这种情况下，CI 不覆盖 0，这意味着总体相关系数不为零。 因此，我们从样本中观察到的负趋势不仅仅是因为抽样变化，而是因为总体中真正的相关性是负的。"
   ]
  }
 ],
 "metadata": {
  "kernelspec": {
   "display_name": "Python 3 (ipykernel)",
   "language": "python",
   "name": "python3"
  },
  "language_info": {
   "codemirror_mode": {
    "name": "ipython",
    "version": 3
   },
   "file_extension": ".py",
   "mimetype": "text/x-python",
   "name": "python",
   "nbconvert_exporter": "python",
   "pygments_lexer": "ipython3",
   "version": "3.9.13"
  }
 },
 "nbformat": 4,
 "nbformat_minor": 4
}
